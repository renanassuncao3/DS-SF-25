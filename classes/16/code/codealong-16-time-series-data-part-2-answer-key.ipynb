{
 "cells": [
  {
   "cell_type": "markdown",
   "metadata": {},
   "source": [
    "# DS-SF-25 | Codealong 16 | Time Series Data, Part 2 | Answer Key"
   ]
  },
  {
   "cell_type": "code",
   "execution_count": 1,
   "metadata": {
    "collapsed": true
   },
   "outputs": [],
   "source": [
    "import os\n",
    "\n",
    "import pandas as pd\n",
    "pd.set_option('display.max_rows', 10)\n",
    "pd.set_option('display.notebook_repr_html', True)\n",
    "pd.set_option('display.max_columns', 10)\n",
    "\n",
    "from statsmodels.tsa import arima_model\n",
    "from statsmodels.graphics.tsaplots import plot_acf\n",
    "\n",
    "import matplotlib.pyplot as plt\n",
    "%matplotlib inline\n",
    "plt.style.use('ggplot')"
   ]
  },
  {
   "cell_type": "markdown",
   "metadata": {},
   "source": [
    "## Exploring Rossmann Drug Store Sales Data (cont.)"
   ]
  },
  {
   "cell_type": "markdown",
   "metadata": {},
   "source": [
    "To explore time series models, we will continue to use the Rossmann sales data.\n",
    "\n",
    "This dataset has sales data for every Rossmann store for a 3-year period and indicators for holidays and basic store information.\n",
    "\n",
    "In the last class, we saw that we could plot the sales data at a particular store to identify how the sales changed over time.\n",
    "\n",
    "We also computed autocorrelation for the data at varying lag periods.  This helps us identify if previous timepoints are predictive of future data and which time points are most important - the previous day, week, or month."
   ]
  },
  {
   "cell_type": "code",
   "execution_count": 2,
   "metadata": {
    "collapsed": false
   },
   "outputs": [],
   "source": [
    "df = pd.read_csv(os.path.join('..', 'datasets', 'rossmann.csv'),\n",
    "                 skipinitialspace = True,\n",
    "                 low_memory = False)\n",
    "\n",
    "df.Date = pd.to_datetime(df.Date)\n",
    "df.set_index('Date', inplace = True)\n",
    "\n",
    "df.Sales = df.Sales.astype(float)"
   ]
  },
  {
   "cell_type": "markdown",
   "metadata": {},
   "source": [
    "Again, let's focus on the first store."
   ]
  },
  {
   "cell_type": "code",
   "execution_count": 3,
   "metadata": {
    "collapsed": true
   },
   "outputs": [],
   "source": [
    "df = df[df.Store == 1]"
   ]
  },
  {
   "cell_type": "code",
   "execution_count": 4,
   "metadata": {
    "collapsed": false
   },
   "outputs": [
    {
     "data": {
      "text/html": [
       "<div>\n",
       "<table border=\"1\" class=\"dataframe\">\n",
       "  <thead>\n",
       "    <tr style=\"text-align: right;\">\n",
       "      <th></th>\n",
       "      <th>Store</th>\n",
       "      <th>DayOfWeek</th>\n",
       "      <th>Sales</th>\n",
       "      <th>Customers</th>\n",
       "      <th>Open</th>\n",
       "      <th>Promo</th>\n",
       "      <th>StateHoliday</th>\n",
       "      <th>SchoolHoliday</th>\n",
       "    </tr>\n",
       "    <tr>\n",
       "      <th>Date</th>\n",
       "      <th></th>\n",
       "      <th></th>\n",
       "      <th></th>\n",
       "      <th></th>\n",
       "      <th></th>\n",
       "      <th></th>\n",
       "      <th></th>\n",
       "      <th></th>\n",
       "    </tr>\n",
       "  </thead>\n",
       "  <tbody>\n",
       "    <tr>\n",
       "      <th>2015-07-31</th>\n",
       "      <td>1</td>\n",
       "      <td>5</td>\n",
       "      <td>5263.0</td>\n",
       "      <td>555</td>\n",
       "      <td>1</td>\n",
       "      <td>1</td>\n",
       "      <td>0</td>\n",
       "      <td>1</td>\n",
       "    </tr>\n",
       "    <tr>\n",
       "      <th>2015-07-30</th>\n",
       "      <td>1</td>\n",
       "      <td>4</td>\n",
       "      <td>5020.0</td>\n",
       "      <td>546</td>\n",
       "      <td>1</td>\n",
       "      <td>1</td>\n",
       "      <td>0</td>\n",
       "      <td>1</td>\n",
       "    </tr>\n",
       "    <tr>\n",
       "      <th>2015-07-29</th>\n",
       "      <td>1</td>\n",
       "      <td>3</td>\n",
       "      <td>4782.0</td>\n",
       "      <td>523</td>\n",
       "      <td>1</td>\n",
       "      <td>1</td>\n",
       "      <td>0</td>\n",
       "      <td>1</td>\n",
       "    </tr>\n",
       "    <tr>\n",
       "      <th>2015-07-28</th>\n",
       "      <td>1</td>\n",
       "      <td>2</td>\n",
       "      <td>5011.0</td>\n",
       "      <td>560</td>\n",
       "      <td>1</td>\n",
       "      <td>1</td>\n",
       "      <td>0</td>\n",
       "      <td>1</td>\n",
       "    </tr>\n",
       "    <tr>\n",
       "      <th>2015-07-27</th>\n",
       "      <td>1</td>\n",
       "      <td>1</td>\n",
       "      <td>6102.0</td>\n",
       "      <td>612</td>\n",
       "      <td>1</td>\n",
       "      <td>1</td>\n",
       "      <td>0</td>\n",
       "      <td>1</td>\n",
       "    </tr>\n",
       "    <tr>\n",
       "      <th>...</th>\n",
       "      <td>...</td>\n",
       "      <td>...</td>\n",
       "      <td>...</td>\n",
       "      <td>...</td>\n",
       "      <td>...</td>\n",
       "      <td>...</td>\n",
       "      <td>...</td>\n",
       "      <td>...</td>\n",
       "    </tr>\n",
       "    <tr>\n",
       "      <th>2013-01-05</th>\n",
       "      <td>1</td>\n",
       "      <td>6</td>\n",
       "      <td>4997.0</td>\n",
       "      <td>635</td>\n",
       "      <td>1</td>\n",
       "      <td>0</td>\n",
       "      <td>0</td>\n",
       "      <td>1</td>\n",
       "    </tr>\n",
       "    <tr>\n",
       "      <th>2013-01-04</th>\n",
       "      <td>1</td>\n",
       "      <td>5</td>\n",
       "      <td>4486.0</td>\n",
       "      <td>619</td>\n",
       "      <td>1</td>\n",
       "      <td>0</td>\n",
       "      <td>0</td>\n",
       "      <td>1</td>\n",
       "    </tr>\n",
       "    <tr>\n",
       "      <th>2013-01-03</th>\n",
       "      <td>1</td>\n",
       "      <td>4</td>\n",
       "      <td>4327.0</td>\n",
       "      <td>578</td>\n",
       "      <td>1</td>\n",
       "      <td>0</td>\n",
       "      <td>0</td>\n",
       "      <td>1</td>\n",
       "    </tr>\n",
       "    <tr>\n",
       "      <th>2013-01-02</th>\n",
       "      <td>1</td>\n",
       "      <td>3</td>\n",
       "      <td>5530.0</td>\n",
       "      <td>668</td>\n",
       "      <td>1</td>\n",
       "      <td>0</td>\n",
       "      <td>0</td>\n",
       "      <td>1</td>\n",
       "    </tr>\n",
       "    <tr>\n",
       "      <th>2013-01-01</th>\n",
       "      <td>1</td>\n",
       "      <td>2</td>\n",
       "      <td>0.0</td>\n",
       "      <td>0</td>\n",
       "      <td>0</td>\n",
       "      <td>0</td>\n",
       "      <td>a</td>\n",
       "      <td>1</td>\n",
       "    </tr>\n",
       "  </tbody>\n",
       "</table>\n",
       "<p>942 rows × 8 columns</p>\n",
       "</div>"
      ],
      "text/plain": [
       "            Store  DayOfWeek   Sales  Customers  Open  Promo StateHoliday  \\\n",
       "Date                                                                        \n",
       "2015-07-31      1          5  5263.0        555     1      1            0   \n",
       "2015-07-30      1          4  5020.0        546     1      1            0   \n",
       "2015-07-29      1          3  4782.0        523     1      1            0   \n",
       "2015-07-28      1          2  5011.0        560     1      1            0   \n",
       "2015-07-27      1          1  6102.0        612     1      1            0   \n",
       "...           ...        ...     ...        ...   ...    ...          ...   \n",
       "2013-01-05      1          6  4997.0        635     1      0            0   \n",
       "2013-01-04      1          5  4486.0        619     1      0            0   \n",
       "2013-01-03      1          4  4327.0        578     1      0            0   \n",
       "2013-01-02      1          3  5530.0        668     1      0            0   \n",
       "2013-01-01      1          2     0.0          0     0      0            a   \n",
       "\n",
       "            SchoolHoliday  \n",
       "Date                       \n",
       "2015-07-31              1  \n",
       "2015-07-30              1  \n",
       "2015-07-29              1  \n",
       "2015-07-28              1  \n",
       "2015-07-27              1  \n",
       "...                   ...  \n",
       "2013-01-05              1  \n",
       "2013-01-04              1  \n",
       "2013-01-03              1  \n",
       "2013-01-02              1  \n",
       "2013-01-01              1  \n",
       "\n",
       "[942 rows x 8 columns]"
      ]
     },
     "execution_count": 4,
     "metadata": {},
     "output_type": "execute_result"
    }
   ],
   "source": [
    "df"
   ]
  },
  {
   "cell_type": "markdown",
   "metadata": {},
   "source": [
    "Plot the sales over time."
   ]
  },
  {
   "cell_type": "code",
   "execution_count": 5,
   "metadata": {
    "collapsed": false
   },
   "outputs": [
    {
     "data": {
      "text/plain": [
       "<matplotlib.axes._subplots.AxesSubplot at 0xb631748>"
      ]
     },
     "execution_count": 5,
     "metadata": {},
     "output_type": "execute_result"
    },
    {
     "data": {
      "image/png": "[encoded data removed]",
      "text/plain": [
       "<matplotlib.figure.Figure at 0xb626b38>"
      ]
     },
     "metadata": {},
     "output_type": "display_data"
    }
   ],
   "source": [
    "df[df.Open == 1].Sales.plot()"
   ]
  },
  {
   "cell_type": "markdown",
   "metadata": {},
   "source": [
    "### Activity | Compute the autocorrelation of Sales in Store 1 for lag 1 and 7."
   ]
  },
  {
   "cell_type": "code",
   "execution_count": 6,
   "metadata": {
    "collapsed": false
   },
   "outputs": [
    {
     "data": {
      "text/plain": [
       "-0.12732514339140219"
      ]
     },
     "execution_count": 6,
     "metadata": {},
     "output_type": "execute_result"
    }
   ],
   "source": [
    "df.Sales.autocorr(lag = 1)"
   ]
  },
  {
   "cell_type": "code",
   "execution_count": 7,
   "metadata": {
    "collapsed": false
   },
   "outputs": [
    {
     "data": {
      "text/plain": [
       "0.63071924328402895"
      ]
     },
     "execution_count": 7,
     "metadata": {},
     "output_type": "execute_result"
    }
   ],
   "source": [
    "df.Sales.autocorr(lag = 7)"
   ]
  },
  {
   "cell_type": "markdown",
   "metadata": {},
   "source": [
    "### Activity | Will we be able to use a predictive model, particularly an autoregressive one?"
   ]
  },
  {
   "cell_type": "markdown",
   "metadata": {},
   "source": [
    "Answer: We do see some minimal correlation in time, implying an `AR` model cannot be useful."
   ]
  },
  {
   "cell_type": "markdown",
   "metadata": {},
   "source": [
    "An easier way to diagnose this may be to plot many autocorrelations at once."
   ]
  },
  {
   "cell_type": "code",
   "execution_count": 8,
   "metadata": {
    "collapsed": false
   },
   "outputs": [
    {
     "data": {
      "text/plain": [
       "<matplotlib.axes._subplots.AxesSubplot at 0xbc34080>"
      ]
     },
     "execution_count": 8,
     "metadata": {},
     "output_type": "execute_result"
    },
    {
     "data": {
      "image/png": "[encoded data removed]",
      "text/plain": [
       "<matplotlib.figure.Figure at 0xb631ba8>"
      ]
     },
     "metadata": {},
     "output_type": "display_data"
    }
   ],
   "source": [
    "pd.tools.plotting.autocorrelation_plot(df.Sales)"
   ]
  },
  {
   "cell_type": "markdown",
   "metadata": {},
   "source": [
    "This shows a typical pattern of an autocorrelation plot, that it should decrease to 0 as lag increases.  However, it's hard to observe exactly what the values are."
   ]
  },
  {
   "cell_type": "markdown",
   "metadata": {},
   "source": [
    "### `statsmodels` and autocorrelation plots"
   ]
  },
  {
   "cell_type": "markdown",
   "metadata": {},
   "source": [
    "`statsmodels` has a better autocorrelation plot that allows us to look at fixed number of lag values."
   ]
  },
  {
   "cell_type": "code",
   "execution_count": 13,
   "metadata": {
    "collapsed": false
   },
   "outputs": [
    {
     "data": {
      "image/png": "[encoded data removed]",
      "text/plain": [
       "<matplotlib.figure.Figure at 0xc7eda20>"
      ]
     },
     "metadata": {},
     "output_type": "display_data"
    }
   ],
   "source": [
    "plot_acf(df.Sales, lags = 14)\n",
    "\n",
    "pass"
   ]
  },
  {
   "cell_type": "markdown",
   "metadata": {},
   "source": [
    "Here we observe autocorrelation at 10 lag values.  1 and 2 are what we saw before.  This implies a small but limited impact based on the last few values.  An autoregressive model might be useful.  We also see a larger spike at 7 (the seventh day in the week).\n",
    "\n",
    "If we observed a handful of random distributed spikes, a moving average model would be useful."
   ]
  },
  {
   "cell_type": "code",
   "execution_count": 14,
   "metadata": {
    "collapsed": false
   },
   "outputs": [
    {
     "data": {
      "image/png": "[encoded data removed]",
      "text/plain": [
       "<matplotlib.figure.Figure at 0xc94ef28>"
      ]
     },
     "metadata": {},
     "output_type": "display_data"
    }
   ],
   "source": [
    "plot_acf(df.Sales, lags = 25)\n",
    "\n",
    "pass"
   ]
  },
  {
   "cell_type": "markdown",
   "metadata": {},
   "source": [
    "Expanding the window to 25 days, we can see that the random spikes occur regularly at 7 days.  What does this mean?"
   ]
  },
  {
   "cell_type": "markdown",
   "metadata": {},
   "source": [
    "### `statsmodels` and `AR`, `MA`, `ARMA`, and `ARIMA` models"
   ]
  },
  {
   "cell_type": "markdown",
   "metadata": {},
   "source": [
    "In this class, we will use `statsmodels` to code `AR`, `MA`, `ARMA`, and `ARIMA` models.\n",
    "\n",
    "To explore `AR`, `MA`, and `ARMA` models, we will use `sm.tsa.arima_model.ARMA`.  (http://statsmodels.sourceforge.net/0.6.0/generated/statsmodels.tsa.arima_model.ARMA.html)\n",
    "\n",
    "Remember, an `ARMA` model is a combination of autoregressive and moving average models.\n",
    "\n",
    "We can train an `AR` model by turning off the `MA` component (`q = 0`)."
   ]
  },
  {
   "cell_type": "code",
   "execution_count": 16,
   "metadata": {
    "collapsed": false
   },
   "outputs": [
    {
     "data": {
      "text/html": [
       "<table class=\"simpletable\">\n",
       "<caption>ARMA Model Results</caption>\n",
       "<tr>\n",
       "  <th>Dep. Variable:</th>       <td>Sales</td>      <th>  No. Observations:  </th>    <td>781</td>   \n",
       "</tr>\n",
       "<tr>\n",
       "  <th>Model:</th>            <td>ARMA(7, 0)</td>    <th>  Log Likelihood     </th> <td>-6232.957</td>\n",
       "</tr>\n",
       "<tr>\n",
       "  <th>Method:</th>             <td>css-mle</td>     <th>  S.D. of innovations</th>  <td>707.077</td> \n",
       "</tr>\n",
       "<tr>\n",
       "  <th>Date:</th>          <td>Wed, 07 Sep 2016</td> <th>  AIC                </th> <td>12483.914</td>\n",
       "</tr>\n",
       "<tr>\n",
       "  <th>Time:</th>              <td>20:19:32</td>     <th>  BIC                </th> <td>12525.859</td>\n",
       "</tr>\n",
       "<tr>\n",
       "  <th>Sample:</th>           <td>07-31-2015</td>    <th>  HQIC               </th> <td>12500.045</td>\n",
       "</tr>\n",
       "<tr>\n",
       "  <th></th>                 <td>- 01-02-2013</td>   <th>                     </th>     <td> </td>    \n",
       "</tr>\n",
       "</table>\n",
       "<table class=\"simpletable\">\n",
       "<tr>\n",
       "       <td></td>          <th>coef</th>     <th>std err</th>      <th>z</th>      <th>P>|z|</th> <th>[95.0% Conf. Int.]</th> \n",
       "</tr>\n",
       "<tr>\n",
       "  <th>const</th>       <td> 4759.0961</td> <td>   72.241</td> <td>   65.878</td> <td> 0.000</td> <td> 4617.506  4900.686</td>\n",
       "</tr>\n",
       "<tr>\n",
       "  <th>ar.L1.Sales</th> <td>    0.7136</td> <td>    0.036</td> <td>   19.966</td> <td> 0.000</td> <td>    0.644     0.784</td>\n",
       "</tr>\n",
       "<tr>\n",
       "  <th>ar.L2.Sales</th> <td>    0.0522</td> <td>    0.044</td> <td>    1.188</td> <td> 0.235</td> <td>   -0.034     0.138</td>\n",
       "</tr>\n",
       "<tr>\n",
       "  <th>ar.L3.Sales</th> <td>   -0.1703</td> <td>    0.043</td> <td>   -3.977</td> <td> 0.000</td> <td>   -0.254    -0.086</td>\n",
       "</tr>\n",
       "<tr>\n",
       "  <th>ar.L4.Sales</th> <td>    0.2610</td> <td>    0.042</td> <td>    6.168</td> <td> 0.000</td> <td>    0.178     0.344</td>\n",
       "</tr>\n",
       "<tr>\n",
       "  <th>ar.L5.Sales</th> <td>   -0.2782</td> <td>    0.043</td> <td>   -6.432</td> <td> 0.000</td> <td>   -0.363    -0.193</td>\n",
       "</tr>\n",
       "<tr>\n",
       "  <th>ar.L6.Sales</th> <td>    0.0325</td> <td>    0.044</td> <td>    0.733</td> <td> 0.464</td> <td>   -0.054     0.119</td>\n",
       "</tr>\n",
       "<tr>\n",
       "  <th>ar.L7.Sales</th> <td>    0.0396</td> <td>    0.036</td> <td>    1.098</td> <td> 0.272</td> <td>   -0.031     0.110</td>\n",
       "</tr>\n",
       "</table>\n",
       "<table class=\"simpletable\">\n",
       "<caption>Roots</caption>\n",
       "<tr>\n",
       "    <td></td>   <th>           Real</th> <th>         Imaginary</th> <th>         Modulus</th> <th>        Frequency</th>\n",
       "</tr>\n",
       "<tr>\n",
       "  <th>AR.1</th>               1.2337                    -0.6450j                    1.3921                   -0.0767     \n",
       "</tr>\n",
       "<tr>\n",
       "  <th>AR.2</th>               1.2337                    +0.6450j                    1.3921                    0.0767     \n",
       "</tr>\n",
       "<tr>\n",
       "  <th>AR.3</th>               1.6140                    -0.0000j                    1.6140                   -0.0000     \n",
       "</tr>\n",
       "<tr>\n",
       "  <th>AR.4</th>              -0.0898                    -1.3570j                    1.3600                   -0.2605     \n",
       "</tr>\n",
       "<tr>\n",
       "  <th>AR.5</th>              -0.0898                    +1.3570j                    1.3600                    0.2605     \n",
       "</tr>\n",
       "<tr>\n",
       "  <th>AR.6</th>              -1.2607                    -0.0000j                    1.2607                   -0.5000     \n",
       "</tr>\n",
       "<tr>\n",
       "  <th>AR.7</th>              -3.4624                    -0.0000j                    3.4624                   -0.5000     \n",
       "</tr>\n",
       "</table>"
      ],
      "text/plain": [
       "<class 'statsmodels.iolib.summary.Summary'>\n",
       "\"\"\"\n",
       "                              ARMA Model Results                              \n",
       "==============================================================================\n",
       "Dep. Variable:                  Sales   No. Observations:                  781\n",
       "Model:                     ARMA(7, 0)   Log Likelihood               -6232.957\n",
       "Method:                       css-mle   S.D. of innovations            707.077\n",
       "Date:                Wed, 07 Sep 2016   AIC                          12483.914\n",
       "Time:                        20:19:32   BIC                          12525.859\n",
       "Sample:                    07-31-2015   HQIC                         12500.045\n",
       "                         - 01-02-2013                                         \n",
       "===============================================================================\n",
       "                  coef    std err          z      P>|z|      [95.0% Conf. Int.]\n",
       "-------------------------------------------------------------------------------\n",
       "const        4759.0961     72.241     65.878      0.000      4617.506  4900.686\n",
       "ar.L1.Sales     0.7136      0.036     19.966      0.000         0.644     0.784\n",
       "ar.L2.Sales     0.0522      0.044      1.188      0.235        -0.034     0.138\n",
       "ar.L3.Sales    -0.1703      0.043     -3.977      0.000        -0.254    -0.086\n",
       "ar.L4.Sales     0.2610      0.042      6.168      0.000         0.178     0.344\n",
       "ar.L5.Sales    -0.2782      0.043     -6.432      0.000        -0.363    -0.193\n",
       "ar.L6.Sales     0.0325      0.044      0.733      0.464        -0.054     0.119\n",
       "ar.L7.Sales     0.0396      0.036      1.098      0.272        -0.031     0.110\n",
       "                                    Roots                                    \n",
       "=============================================================================\n",
       "                 Real           Imaginary           Modulus         Frequency\n",
       "-----------------------------------------------------------------------------\n",
       "AR.1            1.2337           -0.6450j            1.3921           -0.0767\n",
       "AR.2            1.2337           +0.6450j            1.3921            0.0767\n",
       "AR.3            1.6140           -0.0000j            1.6140           -0.0000\n",
       "AR.4           -0.0898           -1.3570j            1.3600           -0.2605\n",
       "AR.5           -0.0898           +1.3570j            1.3600            0.2605\n",
       "AR.6           -1.2607           -0.0000j            1.2607           -0.5000\n",
       "AR.7           -3.4624           -0.0000j            3.4624           -0.5000\n",
       "-----------------------------------------------------------------------------\n",
       "\"\"\""
      ]
     },
     "execution_count": 16,
     "metadata": {},
     "output_type": "execute_result"
    }
   ],
   "source": [
    "model = arima_model.ARMA(df[df.Open == 1].Sales, (7, 0)).fit()\n",
    "\n",
    "model.summary()"
   ]
  },
  {
   "cell_type": "markdown",
   "metadata": {},
   "source": [
    "By passing `(1, 0)` in the second argument, we are fitting an `ARMA` model with `p = 1`, `q = 0`.  This is the same as an `AR(1)` model.\n",
    "\n",
    "In this `AR(1)` model, we learn an intercept (or base sales) value.\n",
    "\n",
    "Additionally, we learn a coefficient that tells us how to include the latest sales value.\n",
    "\n",
    "In this case, we add an intercept of ~4800 to .68 times the previous month's sales.  Note that the coefficient is not equal to the lag 1 autocorrelation.  This implies the data is __not__ stationary."
   ]
  },
  {
   "cell_type": "markdown",
   "metadata": {},
   "source": [
    "We can learn an `AR(2)` model, which regresses each sales value on the last two."
   ]
  },
  {
   "cell_type": "code",
   "execution_count": 17,
   "metadata": {
    "collapsed": false,
    "scrolled": true
   },
   "outputs": [
    {
     "data": {
      "text/html": [
       "<table class=\"simpletable\">\n",
       "<caption>ARMA Model Results</caption>\n",
       "<tr>\n",
       "  <th>Dep. Variable:</th>       <td>Sales</td>      <th>  No. Observations:  </th>    <td>942</td>   \n",
       "</tr>\n",
       "<tr>\n",
       "  <th>Model:</th>            <td>ARMA(2, 0)</td>    <th>  Log Likelihood     </th> <td>-8494.475</td>\n",
       "</tr>\n",
       "<tr>\n",
       "  <th>Method:</th>             <td>css-mle</td>     <th>  S.D. of innovations</th> <td>1995.279</td> \n",
       "</tr>\n",
       "<tr>\n",
       "  <th>Date:</th>          <td>Wed, 07 Sep 2016</td> <th>  AIC                </th> <td>16996.950</td>\n",
       "</tr>\n",
       "<tr>\n",
       "  <th>Time:</th>              <td>20:23:00</td>     <th>  BIC                </th> <td>17016.342</td>\n",
       "</tr>\n",
       "<tr>\n",
       "  <th>Sample:</th>           <td>07-31-2015</td>    <th>  HQIC               </th> <td>17004.342</td>\n",
       "</tr>\n",
       "<tr>\n",
       "  <th></th>                 <td>- 01-01-2013</td>   <th>                     </th>     <td> </td>    \n",
       "</tr>\n",
       "</table>\n",
       "<table class=\"simpletable\">\n",
       "<tr>\n",
       "       <td></td>          <th>coef</th>     <th>std err</th>      <th>z</th>      <th>P>|z|</th> <th>[95.0% Conf. Int.]</th> \n",
       "</tr>\n",
       "<tr>\n",
       "  <th>const</th>       <td> 3945.8589</td> <td>   54.837</td> <td>   71.956</td> <td> 0.000</td> <td> 3838.381  4053.337</td>\n",
       "</tr>\n",
       "<tr>\n",
       "  <th>ar.L1.Sales</th> <td>   -0.1340</td> <td>    0.033</td> <td>   -4.112</td> <td> 0.000</td> <td>   -0.198    -0.070</td>\n",
       "</tr>\n",
       "<tr>\n",
       "  <th>ar.L2.Sales</th> <td>   -0.0517</td> <td>    0.033</td> <td>   -1.588</td> <td> 0.113</td> <td>   -0.116     0.012</td>\n",
       "</tr>\n",
       "</table>\n",
       "<table class=\"simpletable\">\n",
       "<caption>Roots</caption>\n",
       "<tr>\n",
       "    <td></td>   <th>           Real</th> <th>         Imaginary</th> <th>         Modulus</th> <th>        Frequency</th>\n",
       "</tr>\n",
       "<tr>\n",
       "  <th>AR.1</th>              -1.2951                    -4.2011j                    4.3962                   -0.2976     \n",
       "</tr>\n",
       "<tr>\n",
       "  <th>AR.2</th>              -1.2951                    +4.2011j                    4.3962                    0.2976     \n",
       "</tr>\n",
       "</table>"
      ],
      "text/plain": [
       "<class 'statsmodels.iolib.summary.Summary'>\n",
       "\"\"\"\n",
       "                              ARMA Model Results                              \n",
       "==============================================================================\n",
       "Dep. Variable:                  Sales   No. Observations:                  942\n",
       "Model:                     ARMA(2, 0)   Log Likelihood               -8494.475\n",
       "Method:                       css-mle   S.D. of innovations           1995.279\n",
       "Date:                Wed, 07 Sep 2016   AIC                          16996.950\n",
       "Time:                        20:23:00   BIC                          17016.342\n",
       "Sample:                    07-31-2015   HQIC                         17004.342\n",
       "                         - 01-01-2013                                         \n",
       "===============================================================================\n",
       "                  coef    std err          z      P>|z|      [95.0% Conf. Int.]\n",
       "-------------------------------------------------------------------------------\n",
       "const        3945.8589     54.837     71.956      0.000      3838.381  4053.337\n",
       "ar.L1.Sales    -0.1340      0.033     -4.112      0.000        -0.198    -0.070\n",
       "ar.L2.Sales    -0.0517      0.033     -1.588      0.113        -0.116     0.012\n",
       "                                    Roots                                    \n",
       "=============================================================================\n",
       "                 Real           Imaginary           Modulus         Frequency\n",
       "-----------------------------------------------------------------------------\n",
       "AR.1           -1.2951           -4.2011j            4.3962           -0.2976\n",
       "AR.2           -1.2951           +4.2011j            4.3962            0.2976\n",
       "-----------------------------------------------------------------------------\n",
       "\"\"\""
      ]
     },
     "execution_count": 17,
     "metadata": {},
     "output_type": "execute_result"
    }
   ],
   "source": [
    "model = arima_model.ARMA(df.Sales, (2, 0)).fit()\n",
    "\n",
    "model.summary()"
   ]
  },
  {
   "cell_type": "markdown",
   "metadata": {},
   "source": [
    "In this case, we learn two coefficients, which tell us the effect of the last two sales values on the current sales.  While this model may perform better, it may be more difficult to interpret."
   ]
  },
  {
   "cell_type": "markdown",
   "metadata": {},
   "source": [
    "## Residuals"
   ]
  },
  {
   "cell_type": "markdown",
   "metadata": {},
   "source": [
    "To start to diagnose the model, we want to look at residuals.\n",
    "\n",
    "1. What are residuals?\n",
    "1. In linear regression, what did we expect of residuals?"
   ]
  },
  {
   "cell_type": "markdown",
   "metadata": {},
   "source": [
    "- Residuals are the errors of the model or how off our predictions are\n",
    "- Ideally, we want randomly distributed errors that are small\n",
    "- If the errors are large, our model does not perform well\n",
    "- If the errors have a pattern, particularly over time, we may have overlooked something in the model or have periods of time that are different than the rest of the dataset"
   ]
  },
  {
   "cell_type": "markdown",
   "metadata": {},
   "source": [
    "We can use `statsmodels` to plot the residuals."
   ]
  },
  {
   "cell_type": "code",
   "execution_count": 18,
   "metadata": {
    "collapsed": false
   },
   "outputs": [
    {
     "data": {
      "text/plain": [
       "<matplotlib.axes._subplots.AxesSubplot at 0xc5ba320>"
      ]
     },
     "execution_count": 18,
     "metadata": {},
     "output_type": "execute_result"
    },
    {
     "data": {
      "image/png": "[encoded data removed]",
      "text/plain": [
       "<matplotlib.figure.Figure at 0xbc90f28>"
      ]
     },
     "metadata": {},
     "output_type": "display_data"
    }
   ],
   "source": [
    "model.resid.plot()"
   ]
  },
  {
   "cell_type": "markdown",
   "metadata": {},
   "source": [
    "Our model considers a short period of time, so it does not take into account the longer seasonal pattern.  We can also plot the autocorrelations of the residuals.  In an ideal world, these would all be near 0 and appear random."
   ]
  },
  {
   "cell_type": "code",
   "execution_count": 19,
   "metadata": {
    "collapsed": false
   },
   "outputs": [
    {
     "data": {
      "image/png": "[encoded data removed]",
      "text/plain": [
       "<matplotlib.figure.Figure at 0xc8b00b8>"
      ]
     },
     "metadata": {},
     "output_type": "display_data"
    }
   ],
   "source": [
    "plot_acf(model.resid, lags = 50)\n",
    "\n",
    "pass"
   ]
  },
  {
   "cell_type": "markdown",
   "metadata": {},
   "source": [
    "This plot shows a problem: the errors are increasing and decreasing every week in a clear pattern.  We may need to expand our model.  To expand this `AR` model to an `ARMA` model, we can include the moving average component as well."
   ]
  },
  {
   "cell_type": "code",
   "execution_count": 20,
   "metadata": {
    "collapsed": false
   },
   "outputs": [
    {
     "name": "stderr",
     "output_type": "stream",
     "text": [
      "C:\\Anaconda2\\lib\\site-packages\\statsmodels\\base\\model.py:466: ConvergenceWarning: Maximum Likelihood optimization failed to converge. Check mle_retvals\n",
      "  \"Check mle_retvals\", ConvergenceWarning)\n"
     ]
    },
    {
     "data": {
      "text/html": [
       "<table class=\"simpletable\">\n",
       "<caption>ARMA Model Results</caption>\n",
       "<tr>\n",
       "  <th>Dep. Variable:</th>       <td>Sales</td>      <th>  No. Observations:  </th>    <td>942</td>   \n",
       "</tr>\n",
       "<tr>\n",
       "  <th>Model:</th>            <td>ARMA(7, 7)</td>    <th>  Log Likelihood     </th> <td>-7983.961</td>\n",
       "</tr>\n",
       "<tr>\n",
       "  <th>Method:</th>             <td>css-mle</td>     <th>  S.D. of innovations</th> <td>1142.008</td> \n",
       "</tr>\n",
       "<tr>\n",
       "  <th>Date:</th>          <td>Wed, 07 Sep 2016</td> <th>  AIC                </th> <td>15999.921</td>\n",
       "</tr>\n",
       "<tr>\n",
       "  <th>Time:</th>              <td>20:25:45</td>     <th>  BIC                </th> <td>16077.489</td>\n",
       "</tr>\n",
       "<tr>\n",
       "  <th>Sample:</th>           <td>07-31-2015</td>    <th>  HQIC               </th> <td>16029.488</td>\n",
       "</tr>\n",
       "<tr>\n",
       "  <th></th>                 <td>- 01-01-2013</td>   <th>                     </th>     <td> </td>    \n",
       "</tr>\n",
       "</table>\n",
       "<table class=\"simpletable\">\n",
       "<tr>\n",
       "       <td></td>          <th>coef</th>     <th>std err</th>      <th>z</th>      <th>P>|z|</th> <th>[95.0% Conf. Int.]</th> \n",
       "</tr>\n",
       "<tr>\n",
       "  <th>const</th>       <td> 3945.7072</td> <td>   71.748</td> <td>   54.994</td> <td> 0.000</td> <td> 3805.083  4086.331</td>\n",
       "</tr>\n",
       "<tr>\n",
       "  <th>ar.L1.Sales</th> <td>   -0.2521</td> <td>      nan</td> <td>      nan</td> <td>   nan</td> <td>      nan       nan</td>\n",
       "</tr>\n",
       "<tr>\n",
       "  <th>ar.L2.Sales</th> <td>   -0.2532</td> <td>      nan</td> <td>      nan</td> <td>   nan</td> <td>      nan       nan</td>\n",
       "</tr>\n",
       "<tr>\n",
       "  <th>ar.L3.Sales</th> <td>   -0.2524</td> <td>      nan</td> <td>      nan</td> <td>   nan</td> <td>      nan       nan</td>\n",
       "</tr>\n",
       "<tr>\n",
       "  <th>ar.L4.Sales</th> <td>   -0.2520</td> <td>      nan</td> <td>      nan</td> <td>   nan</td> <td>      nan       nan</td>\n",
       "</tr>\n",
       "<tr>\n",
       "  <th>ar.L5.Sales</th> <td>   -0.2512</td> <td>      nan</td> <td>      nan</td> <td>   nan</td> <td>      nan       nan</td>\n",
       "</tr>\n",
       "<tr>\n",
       "  <th>ar.L6.Sales</th> <td>   -0.2516</td> <td>      nan</td> <td>      nan</td> <td>   nan</td> <td>      nan       nan</td>\n",
       "</tr>\n",
       "<tr>\n",
       "  <th>ar.L7.Sales</th> <td>    0.7477</td> <td>      nan</td> <td>      nan</td> <td>   nan</td> <td>      nan       nan</td>\n",
       "</tr>\n",
       "<tr>\n",
       "  <th>ma.L1.Sales</th> <td>    0.4780</td> <td>    0.030</td> <td>   15.733</td> <td> 0.000</td> <td>    0.418     0.538</td>\n",
       "</tr>\n",
       "<tr>\n",
       "  <th>ma.L2.Sales</th> <td>    0.4501</td> <td>    0.031</td> <td>   14.741</td> <td> 0.000</td> <td>    0.390     0.510</td>\n",
       "</tr>\n",
       "<tr>\n",
       "  <th>ma.L3.Sales</th> <td>    0.5125</td> <td>    0.052</td> <td>    9.890</td> <td> 0.000</td> <td>    0.411     0.614</td>\n",
       "</tr>\n",
       "<tr>\n",
       "  <th>ma.L4.Sales</th> <td>    0.4940</td> <td>    0.036</td> <td>   13.696</td> <td> 0.000</td> <td>    0.423     0.565</td>\n",
       "</tr>\n",
       "<tr>\n",
       "  <th>ma.L5.Sales</th> <td>    0.4675</td> <td>    0.037</td> <td>   12.486</td> <td> 0.000</td> <td>    0.394     0.541</td>\n",
       "</tr>\n",
       "<tr>\n",
       "  <th>ma.L6.Sales</th> <td>    0.4881</td> <td>    0.032</td> <td>   15.449</td> <td> 0.000</td> <td>    0.426     0.550</td>\n",
       "</tr>\n",
       "<tr>\n",
       "  <th>ma.L7.Sales</th> <td>   -0.4801</td> <td>    0.053</td> <td>   -9.043</td> <td> 0.000</td> <td>   -0.584    -0.376</td>\n",
       "</tr>\n",
       "</table>\n",
       "<table class=\"simpletable\">\n",
       "<caption>Roots</caption>\n",
       "<tr>\n",
       "    <td></td>   <th>           Real</th> <th>         Imaginary</th> <th>         Modulus</th> <th>        Frequency</th>\n",
       "</tr>\n",
       "<tr>\n",
       "  <th>AR.1</th>              -0.9010                    -0.4341j                    1.0001                   -0.4285     \n",
       "</tr>\n",
       "<tr>\n",
       "  <th>AR.2</th>              -0.9010                    +0.4341j                    1.0001                    0.4285     \n",
       "</tr>\n",
       "<tr>\n",
       "  <th>AR.3</th>              -0.2224                    -0.9750j                    1.0000                   -0.2857     \n",
       "</tr>\n",
       "<tr>\n",
       "  <th>AR.4</th>              -0.2224                    +0.9750j                    1.0000                    0.2857     \n",
       "</tr>\n",
       "<tr>\n",
       "  <th>AR.5</th>               0.6232                    -0.7821j                    1.0001                   -0.1429     \n",
       "</tr>\n",
       "<tr>\n",
       "  <th>AR.6</th>               0.6232                    +0.7821j                    1.0001                    0.1429     \n",
       "</tr>\n",
       "<tr>\n",
       "  <th>AR.7</th>               1.3369                    -0.0000j                    1.3369                   -0.0000     \n",
       "</tr>\n",
       "<tr>\n",
       "  <th>MA.1</th>              -0.9032                    -0.4291j                    1.0000                   -0.4294     \n",
       "</tr>\n",
       "<tr>\n",
       "  <th>MA.2</th>              -0.9032                    +0.4291j                    1.0000                    0.4294     \n",
       "</tr>\n",
       "<tr>\n",
       "  <th>MA.3</th>              -0.2186                    -0.9947j                    1.0184                   -0.2844     \n",
       "</tr>\n",
       "<tr>\n",
       "  <th>MA.4</th>              -0.2186                    +0.9947j                    1.0184                    0.2844     \n",
       "</tr>\n",
       "<tr>\n",
       "  <th>MA.5</th>               0.6260                    -0.7798j                    1.0000                   -0.1423     \n",
       "</tr>\n",
       "<tr>\n",
       "  <th>MA.6</th>               0.6260                    +0.7798j                    1.0000                    0.1423     \n",
       "</tr>\n",
       "<tr>\n",
       "  <th>MA.7</th>               2.0084                    -0.0000j                    2.0084                   -0.0000     \n",
       "</tr>\n",
       "</table>"
      ],
      "text/plain": [
       "<class 'statsmodels.iolib.summary.Summary'>\n",
       "\"\"\"\n",
       "                              ARMA Model Results                              \n",
       "==============================================================================\n",
       "Dep. Variable:                  Sales   No. Observations:                  942\n",
       "Model:                     ARMA(7, 7)   Log Likelihood               -7983.961\n",
       "Method:                       css-mle   S.D. of innovations           1142.008\n",
       "Date:                Wed, 07 Sep 2016   AIC                          15999.921\n",
       "Time:                        20:25:45   BIC                          16077.489\n",
       "Sample:                    07-31-2015   HQIC                         16029.488\n",
       "                         - 01-01-2013                                         \n",
       "===============================================================================\n",
       "                  coef    std err          z      P>|z|      [95.0% Conf. Int.]\n",
       "-------------------------------------------------------------------------------\n",
       "const        3945.7072     71.748     54.994      0.000      3805.083  4086.331\n",
       "ar.L1.Sales    -0.2521        nan        nan        nan           nan       nan\n",
       "ar.L2.Sales    -0.2532        nan        nan        nan           nan       nan\n",
       "ar.L3.Sales    -0.2524        nan        nan        nan           nan       nan\n",
       "ar.L4.Sales    -0.2520        nan        nan        nan           nan       nan\n",
       "ar.L5.Sales    -0.2512        nan        nan        nan           nan       nan\n",
       "ar.L6.Sales    -0.2516        nan        nan        nan           nan       nan\n",
       "ar.L7.Sales     0.7477        nan        nan        nan           nan       nan\n",
       "ma.L1.Sales     0.4780      0.030     15.733      0.000         0.418     0.538\n",
       "ma.L2.Sales     0.4501      0.031     14.741      0.000         0.390     0.510\n",
       "ma.L3.Sales     0.5125      0.052      9.890      0.000         0.411     0.614\n",
       "ma.L4.Sales     0.4940      0.036     13.696      0.000         0.423     0.565\n",
       "ma.L5.Sales     0.4675      0.037     12.486      0.000         0.394     0.541\n",
       "ma.L6.Sales     0.4881      0.032     15.449      0.000         0.426     0.550\n",
       "ma.L7.Sales    -0.4801      0.053     -9.043      0.000        -0.584    -0.376\n",
       "                                    Roots                                    \n",
       "=============================================================================\n",
       "                 Real           Imaginary           Modulus         Frequency\n",
       "-----------------------------------------------------------------------------\n",
       "AR.1           -0.9010           -0.4341j            1.0001           -0.4285\n",
       "AR.2           -0.9010           +0.4341j            1.0001            0.4285\n",
       "AR.3           -0.2224           -0.9750j            1.0000           -0.2857\n",
       "AR.4           -0.2224           +0.9750j            1.0000            0.2857\n",
       "AR.5            0.6232           -0.7821j            1.0001           -0.1429\n",
       "AR.6            0.6232           +0.7821j            1.0001            0.1429\n",
       "AR.7            1.3369           -0.0000j            1.3369           -0.0000\n",
       "MA.1           -0.9032           -0.4291j            1.0000           -0.4294\n",
       "MA.2           -0.9032           +0.4291j            1.0000            0.4294\n",
       "MA.3           -0.2186           -0.9947j            1.0184           -0.2844\n",
       "MA.4           -0.2186           +0.9947j            1.0184            0.2844\n",
       "MA.5            0.6260           -0.7798j            1.0000           -0.1423\n",
       "MA.6            0.6260           +0.7798j            1.0000            0.1423\n",
       "MA.7            2.0084           -0.0000j            2.0084           -0.0000\n",
       "-----------------------------------------------------------------------------\n",
       "\"\"\""
      ]
     },
     "execution_count": 20,
     "metadata": {},
     "output_type": "execute_result"
    }
   ],
   "source": [
    "model = arima_model.ARMA(df.Sales, (7, 7)).fit()\n",
    "\n",
    "model.summary()"
   ]
  },
  {
   "cell_type": "markdown",
   "metadata": {},
   "source": [
    "Now we learn two coefficients, one for the `AR(1)` component and one for the `MA(1)` component."
   ]
  },
  {
   "cell_type": "markdown",
   "metadata": {},
   "source": [
    "### Activity\n",
    "\n",
    "1. Take a moment to look at the coefficients of our new model\n",
    "1. Offer an interpretation of this model"
   ]
  },
  {
   "cell_type": "markdown",
   "metadata": {},
   "source": [
    "Answer:\n",
    "\n",
    "- Remember that this is an `AR(1) + MA(1)` model.  The `AR` coefficient represents dependency on the last value and the `MA` component represents any spikes independent of the last value\n",
    "- The coefficients here are .69 for the `AR` component and -.03 for the `MA` component\n",
    "- The `AR` coefficient is the same as before (decreasing values)\n",
    "- The `MA` component is fairly small (which we should have expected from the autocorrelation plots)"
   ]
  },
  {
   "cell_type": "markdown",
   "metadata": {},
   "source": [
    "We can also use statsmodels to fit `ARIMA` models.  Let's start by using `ARIMA(1, 0, 1)` to fit an `ARMA(1, 1)` model."
   ]
  },
  {
   "cell_type": "code",
   "execution_count": 23,
   "metadata": {
    "collapsed": false
   },
   "outputs": [
    {
     "data": {
      "text/html": [
       "<table class=\"simpletable\">\n",
       "<caption>ARMA Model Results</caption>\n",
       "<tr>\n",
       "  <th>Dep. Variable:</th>       <td>Sales</td>      <th>  No. Observations:  </th>    <td>942</td>   \n",
       "</tr>\n",
       "<tr>\n",
       "  <th>Model:</th>            <td>ARMA(1, 0)</td>    <th>  Log Likelihood     </th> <td>-8495.734</td>\n",
       "</tr>\n",
       "<tr>\n",
       "  <th>Method:</th>             <td>css-mle</td>     <th>  S.D. of innovations</th> <td>1997.953</td> \n",
       "</tr>\n",
       "<tr>\n",
       "  <th>Date:</th>          <td>Wed, 07 Sep 2016</td> <th>  AIC                </th> <td>16997.467</td>\n",
       "</tr>\n",
       "<tr>\n",
       "  <th>Time:</th>              <td>20:29:18</td>     <th>  BIC                </th> <td>17012.011</td>\n",
       "</tr>\n",
       "<tr>\n",
       "  <th>Sample:</th>           <td>07-31-2015</td>    <th>  HQIC               </th> <td>17003.011</td>\n",
       "</tr>\n",
       "<tr>\n",
       "  <th></th>                 <td>- 01-01-2013</td>   <th>                     </th>     <td> </td>    \n",
       "</tr>\n",
       "</table>\n",
       "<table class=\"simpletable\">\n",
       "<tr>\n",
       "       <td></td>          <th>coef</th>     <th>std err</th>      <th>z</th>      <th>P>|z|</th> <th>[95.0% Conf. Int.]</th> \n",
       "</tr>\n",
       "<tr>\n",
       "  <th>const</th>       <td> 3945.7049</td> <td>   57.744</td> <td>   68.331</td> <td> 0.000</td> <td> 3832.530  4058.880</td>\n",
       "</tr>\n",
       "<tr>\n",
       "  <th>ar.L1.Sales</th> <td>   -0.1275</td> <td>    0.032</td> <td>   -3.938</td> <td> 0.000</td> <td>   -0.191    -0.064</td>\n",
       "</tr>\n",
       "</table>\n",
       "<table class=\"simpletable\">\n",
       "<caption>Roots</caption>\n",
       "<tr>\n",
       "    <td></td>   <th>           Real</th> <th>         Imaginary</th> <th>         Modulus</th> <th>        Frequency</th>\n",
       "</tr>\n",
       "<tr>\n",
       "  <th>AR.1</th>              -7.8444                    +0.0000j                    7.8444                    0.5000     \n",
       "</tr>\n",
       "</table>"
      ],
      "text/plain": [
       "<class 'statsmodels.iolib.summary.Summary'>\n",
       "\"\"\"\n",
       "                              ARMA Model Results                              \n",
       "==============================================================================\n",
       "Dep. Variable:                  Sales   No. Observations:                  942\n",
       "Model:                     ARMA(1, 0)   Log Likelihood               -8495.734\n",
       "Method:                       css-mle   S.D. of innovations           1997.953\n",
       "Date:                Wed, 07 Sep 2016   AIC                          16997.467\n",
       "Time:                        20:29:18   BIC                          17012.011\n",
       "Sample:                    07-31-2015   HQIC                         17003.011\n",
       "                         - 01-01-2013                                         \n",
       "===============================================================================\n",
       "                  coef    std err          z      P>|z|      [95.0% Conf. Int.]\n",
       "-------------------------------------------------------------------------------\n",
       "const        3945.7049     57.744     68.331      0.000      3832.530  4058.880\n",
       "ar.L1.Sales    -0.1275      0.032     -3.938      0.000        -0.191    -0.064\n",
       "                                    Roots                                    \n",
       "=============================================================================\n",
       "                 Real           Imaginary           Modulus         Frequency\n",
       "-----------------------------------------------------------------------------\n",
       "AR.1           -7.8444           +0.0000j            7.8444            0.5000\n",
       "-----------------------------------------------------------------------------\n",
       "\"\"\""
      ]
     },
     "execution_count": 23,
     "metadata": {},
     "output_type": "execute_result"
    }
   ],
   "source": [
    "model = arima_model.ARIMA(df.Sales, (1, 0, 0)).fit()\n",
    "\n",
    "model.summary()"
   ]
  },
  {
   "cell_type": "markdown",
   "metadata": {},
   "source": [
    "We can see that this model is the same as our previous `ARMA` model.  We can also fit a true `ARIMA` model to predict the difference of the series."
   ]
  },
  {
   "cell_type": "code",
   "execution_count": 22,
   "metadata": {
    "collapsed": false
   },
   "outputs": [
    {
     "data": {
      "text/html": [
       "<table class=\"simpletable\">\n",
       "<caption>ARIMA Model Results</caption>\n",
       "<tr>\n",
       "  <th>Dep. Variable:</th>      <td>D.Sales</td>     <th>  No. Observations:  </th>    <td>780</td>   \n",
       "</tr>\n",
       "<tr>\n",
       "  <th>Model:</th>          <td>ARIMA(1, 1, 1)</td>  <th>  Log Likelihood     </th> <td>-6261.011</td>\n",
       "</tr>\n",
       "<tr>\n",
       "  <th>Method:</th>             <td>css-mle</td>     <th>  S.D. of innovations</th>  <td>738.624</td> \n",
       "</tr>\n",
       "<tr>\n",
       "  <th>Date:</th>          <td>Wed, 07 Sep 2016</td> <th>  AIC                </th> <td>12530.022</td>\n",
       "</tr>\n",
       "<tr>\n",
       "  <th>Time:</th>              <td>20:28:14</td>     <th>  BIC                </th> <td>12548.659</td>\n",
       "</tr>\n",
       "<tr>\n",
       "  <th>Sample:</th>           <td>07-30-2015</td>    <th>  HQIC               </th> <td>12537.190</td>\n",
       "</tr>\n",
       "<tr>\n",
       "  <th></th>                 <td>- 01-02-2013</td>   <th>                     </th>     <td> </td>    \n",
       "</tr>\n",
       "</table>\n",
       "<table class=\"simpletable\">\n",
       "<tr>\n",
       "        <td></td>           <th>coef</th>     <th>std err</th>      <th>z</th>      <th>P>|z|</th> <th>[95.0% Conf. Int.]</th> \n",
       "</tr>\n",
       "<tr>\n",
       "  <th>const</th>         <td>    0.5108</td> <td>    0.364</td> <td>    1.405</td> <td> 0.160</td> <td>   -0.202     1.223</td>\n",
       "</tr>\n",
       "<tr>\n",
       "  <th>ar.L1.D.Sales</th> <td>    0.6801</td> <td>    0.026</td> <td>   25.801</td> <td> 0.000</td> <td>    0.628     0.732</td>\n",
       "</tr>\n",
       "<tr>\n",
       "  <th>ma.L1.D.Sales</th> <td>   -1.0000</td> <td>    0.004</td> <td> -240.410</td> <td> 0.000</td> <td>   -1.008    -0.992</td>\n",
       "</tr>\n",
       "</table>\n",
       "<table class=\"simpletable\">\n",
       "<caption>Roots</caption>\n",
       "<tr>\n",
       "    <td></td>   <th>           Real</th> <th>         Imaginary</th> <th>         Modulus</th> <th>        Frequency</th>\n",
       "</tr>\n",
       "<tr>\n",
       "  <th>AR.1</th>               1.4703                    +0.0000j                    1.4703                    0.0000     \n",
       "</tr>\n",
       "<tr>\n",
       "  <th>MA.1</th>               1.0000                    +0.0000j                    1.0000                    0.0000     \n",
       "</tr>\n",
       "</table>"
      ],
      "text/plain": [
       "<class 'statsmodels.iolib.summary.Summary'>\n",
       "\"\"\"\n",
       "                             ARIMA Model Results                              \n",
       "==============================================================================\n",
       "Dep. Variable:                D.Sales   No. Observations:                  780\n",
       "Model:                 ARIMA(1, 1, 1)   Log Likelihood               -6261.011\n",
       "Method:                       css-mle   S.D. of innovations            738.624\n",
       "Date:                Wed, 07 Sep 2016   AIC                          12530.022\n",
       "Time:                        20:28:14   BIC                          12548.659\n",
       "Sample:                    07-30-2015   HQIC                         12537.190\n",
       "                         - 01-02-2013                                         \n",
       "=================================================================================\n",
       "                    coef    std err          z      P>|z|      [95.0% Conf. Int.]\n",
       "---------------------------------------------------------------------------------\n",
       "const             0.5108      0.364      1.405      0.160        -0.202     1.223\n",
       "ar.L1.D.Sales     0.6801      0.026     25.801      0.000         0.628     0.732\n",
       "ma.L1.D.Sales    -1.0000      0.004   -240.410      0.000        -1.008    -0.992\n",
       "                                    Roots                                    \n",
       "=============================================================================\n",
       "                 Real           Imaginary           Modulus         Frequency\n",
       "-----------------------------------------------------------------------------\n",
       "AR.1            1.4703           +0.0000j            1.4703            0.0000\n",
       "MA.1            1.0000           +0.0000j            1.0000            0.0000\n",
       "-----------------------------------------------------------------------------\n",
       "\"\"\""
      ]
     },
     "execution_count": 22,
     "metadata": {},
     "output_type": "execute_result"
    }
   ],
   "source": [
    "model = arima_model.ARIMA(df[df.Open == 1].Sales, (1, 1, 1)).fit()\n",
    "\n",
    "model.summary()"
   ]
  },
  {
   "cell_type": "markdown",
   "metadata": {},
   "source": [
    "We can remove the `MA` component since it does not appear to be useful."
   ]
  },
  {
   "cell_type": "code",
   "execution_count": null,
   "metadata": {
    "collapsed": false
   },
   "outputs": [],
   "source": [
    "model = arima_model.ARIMA(df[df.Open == 1].Sales, (1, 1, 0)).fit()\n",
    "\n",
    "model.summary()"
   ]
  },
  {
   "cell_type": "markdown",
   "metadata": {},
   "source": [
    "We now have an `AR(1)` model on the differenced series with a coefficient of -.18."
   ]
  },
  {
   "cell_type": "markdown",
   "metadata": {},
   "source": [
    "### Activity"
   ]
  },
  {
   "cell_type": "markdown",
   "metadata": {},
   "source": [
    "1. Does this model match the lag 1 autocorrelation of the differenced series?\n",
    "1. Is the data stationary?"
   ]
  },
  {
   "cell_type": "markdown",
   "metadata": {},
   "source": [
    "We can compute the lag 1 autocorrelation of the differenced series and see if they match."
   ]
  },
  {
   "cell_type": "code",
   "execution_count": null,
   "metadata": {
    "collapsed": false
   },
   "outputs": [],
   "source": [
    "df[df.Open == 1].Sales.diff(1).autocorr(1)"
   ]
  },
  {
   "cell_type": "markdown",
   "metadata": {},
   "source": [
    "We can also plot it to see the difference."
   ]
  },
  {
   "cell_type": "code",
   "execution_count": null,
   "metadata": {
    "collapsed": false
   },
   "outputs": [],
   "source": [
    "df[df.Open == 1].Sales.diff(1).plot()"
   ]
  },
  {
   "cell_type": "markdown",
   "metadata": {},
   "source": [
    "They match.  Note that this is generally true, but the variance is NOT constant."
   ]
  },
  {
   "cell_type": "markdown",
   "metadata": {},
   "source": [
    "With our models, we can also plot our predictions against the true series using the plot_predict function: We can compare the last 50 days of true values against our predictions."
   ]
  },
  {
   "cell_type": "code",
   "execution_count": null,
   "metadata": {
    "collapsed": false
   },
   "outputs": [],
   "source": [
    "model.plot_predict(1, 50)\n",
    "\n",
    "pass"
   ]
  },
  {
   "cell_type": "markdown",
   "metadata": {},
   "source": [
    "The function takes two arguments, the start and end index of the dataframe to plot.  Here, we are plotting the last 50 values.  To plot earlier values with our predictions continuing where the true values stop, we can do the following."
   ]
  },
  {
   "cell_type": "code",
   "execution_count": null,
   "metadata": {
    "collapsed": false
   },
   "outputs": [],
   "source": [
    "_, ax = plt.subplots()\n",
    "ax = df['2014'][df.Open == 1].plot(ax = ax)\n",
    "\n",
    "model.plot_predict(1, 200, ax = ax, plot_insample = False)\n",
    "\n",
    "pass"
   ]
  },
  {
   "cell_type": "markdown",
   "metadata": {},
   "source": [
    "This plots true values in 2014 and our predictions 200 days out from 2014."
   ]
  },
  {
   "cell_type": "markdown",
   "metadata": {},
   "source": [
    "### Activity\n",
    "\n",
    "We can revisit our diagnostics to check that our models are working well.\n",
    "\n",
    "1. Plot the residuals and autocorrelation of the residuals.\n",
    "1. Are there patterns or outliers?"
   ]
  },
  {
   "cell_type": "markdown",
   "metadata": {},
   "source": [
    "Answer:\n",
    "\n",
    "The two previous problems remain:\n",
    "- Large seasonal errors\n",
    "- Errors with high autocorrelation"
   ]
  },
  {
   "cell_type": "markdown",
   "metadata": {},
   "source": [
    "We can adjust the `AR` component of the model to adjust for a piece of this.  Let's increase the lag to 7."
   ]
  },
  {
   "cell_type": "code",
   "execution_count": 24,
   "metadata": {
    "collapsed": false
   },
   "outputs": [
    {
     "data": {
      "text/html": [
       "<table class=\"simpletable\">\n",
       "<caption>ARIMA Model Results</caption>\n",
       "<tr>\n",
       "  <th>Dep. Variable:</th>      <td>D.Sales</td>     <th>  No. Observations:  </th>    <td>780</td>   \n",
       "</tr>\n",
       "<tr>\n",
       "  <th>Model:</th>          <td>ARIMA(7, 1, 2)</td>  <th>  Log Likelihood     </th> <td>-6221.636</td>\n",
       "</tr>\n",
       "<tr>\n",
       "  <th>Method:</th>             <td>css-mle</td>     <th>  S.D. of innovations</th>  <td>703.783</td> \n",
       "</tr>\n",
       "<tr>\n",
       "  <th>Date:</th>          <td>Wed, 07 Sep 2016</td> <th>  AIC                </th> <td>12465.272</td>\n",
       "</tr>\n",
       "<tr>\n",
       "  <th>Time:</th>              <td>20:29:43</td>     <th>  BIC                </th> <td>12516.524</td>\n",
       "</tr>\n",
       "<tr>\n",
       "  <th>Sample:</th>           <td>07-30-2015</td>    <th>  HQIC               </th> <td>12484.984</td>\n",
       "</tr>\n",
       "<tr>\n",
       "  <th></th>                 <td>- 01-02-2013</td>   <th>                     </th>     <td> </td>    \n",
       "</tr>\n",
       "</table>\n",
       "<table class=\"simpletable\">\n",
       "<tr>\n",
       "        <td></td>           <th>coef</th>     <th>std err</th>      <th>z</th>      <th>P>|z|</th> <th>[95.0% Conf. Int.]</th> \n",
       "</tr>\n",
       "<tr>\n",
       "  <th>const</th>         <td>    0.6861</td> <td>    4.555</td> <td>    0.151</td> <td> 0.880</td> <td>   -8.241     9.614</td>\n",
       "</tr>\n",
       "<tr>\n",
       "  <th>ar.L1.D.Sales</th> <td>    0.8404</td> <td>    0.211</td> <td>    3.982</td> <td> 0.000</td> <td>    0.427     1.254</td>\n",
       "</tr>\n",
       "<tr>\n",
       "  <th>ar.L2.D.Sales</th> <td>   -0.1504</td> <td>    0.145</td> <td>   -1.038</td> <td> 0.300</td> <td>   -0.434     0.134</td>\n",
       "</tr>\n",
       "<tr>\n",
       "  <th>ar.L3.D.Sales</th> <td>   -0.1831</td> <td>    0.046</td> <td>   -3.976</td> <td> 0.000</td> <td>   -0.273    -0.093</td>\n",
       "</tr>\n",
       "<tr>\n",
       "  <th>ar.L4.D.Sales</th> <td>    0.2557</td> <td>    0.060</td> <td>    4.296</td> <td> 0.000</td> <td>    0.139     0.372</td>\n",
       "</tr>\n",
       "<tr>\n",
       "  <th>ar.L5.D.Sales</th> <td>   -0.3381</td> <td>    0.067</td> <td>   -5.018</td> <td> 0.000</td> <td>   -0.470    -0.206</td>\n",
       "</tr>\n",
       "<tr>\n",
       "  <th>ar.L6.D.Sales</th> <td>    0.0691</td> <td>    0.074</td> <td>    0.931</td> <td> 0.352</td> <td>   -0.076     0.215</td>\n",
       "</tr>\n",
       "<tr>\n",
       "  <th>ar.L7.D.Sales</th> <td>   -0.0656</td> <td>    0.050</td> <td>   -1.325</td> <td> 0.185</td> <td>   -0.163     0.031</td>\n",
       "</tr>\n",
       "<tr>\n",
       "  <th>ma.L1.D.Sales</th> <td>   -1.1350</td> <td>    0.209</td> <td>   -5.443</td> <td> 0.000</td> <td>   -1.544    -0.726</td>\n",
       "</tr>\n",
       "<tr>\n",
       "  <th>ma.L2.D.Sales</th> <td>    0.2373</td> <td>    0.197</td> <td>    1.203</td> <td> 0.229</td> <td>   -0.149     0.624</td>\n",
       "</tr>\n",
       "</table>\n",
       "<table class=\"simpletable\">\n",
       "<caption>Roots</caption>\n",
       "<tr>\n",
       "    <td></td>   <th>           Real</th> <th>         Imaginary</th> <th>         Modulus</th> <th>        Frequency</th>\n",
       "</tr>\n",
       "<tr>\n",
       "  <th>AR.1</th>              -1.2128                    -0.0000j                    1.2128                   -0.5000     \n",
       "</tr>\n",
       "<tr>\n",
       "  <th>AR.2</th>               1.0141                    -0.4950j                    1.1285                   -0.0723     \n",
       "</tr>\n",
       "<tr>\n",
       "  <th>AR.3</th>               1.0141                    +0.4950j                    1.1285                    0.0723     \n",
       "</tr>\n",
       "<tr>\n",
       "  <th>AR.4</th>              -0.1357                    -1.7544j                    1.7597                   -0.2623     \n",
       "</tr>\n",
       "<tr>\n",
       "  <th>AR.5</th>              -0.1357                    +1.7544j                    1.7597                    0.2623     \n",
       "</tr>\n",
       "<tr>\n",
       "  <th>AR.6</th>               0.2547                    -1.7666j                    1.7849                   -0.2272     \n",
       "</tr>\n",
       "<tr>\n",
       "  <th>AR.7</th>               0.2547                    +1.7666j                    1.7849                    0.2272     \n",
       "</tr>\n",
       "<tr>\n",
       "  <th>MA.1</th>               1.1647                    +0.0000j                    1.1647                    0.0000     \n",
       "</tr>\n",
       "<tr>\n",
       "  <th>MA.2</th>               3.6177                    +0.0000j                    3.6177                    0.0000     \n",
       "</tr>\n",
       "</table>"
      ],
      "text/plain": [
       "<class 'statsmodels.iolib.summary.Summary'>\n",
       "\"\"\"\n",
       "                             ARIMA Model Results                              \n",
       "==============================================================================\n",
       "Dep. Variable:                D.Sales   No. Observations:                  780\n",
       "Model:                 ARIMA(7, 1, 2)   Log Likelihood               -6221.636\n",
       "Method:                       css-mle   S.D. of innovations            703.783\n",
       "Date:                Wed, 07 Sep 2016   AIC                          12465.272\n",
       "Time:                        20:29:43   BIC                          12516.524\n",
       "Sample:                    07-30-2015   HQIC                         12484.984\n",
       "                         - 01-02-2013                                         \n",
       "=================================================================================\n",
       "                    coef    std err          z      P>|z|      [95.0% Conf. Int.]\n",
       "---------------------------------------------------------------------------------\n",
       "const             0.6861      4.555      0.151      0.880        -8.241     9.614\n",
       "ar.L1.D.Sales     0.8404      0.211      3.982      0.000         0.427     1.254\n",
       "ar.L2.D.Sales    -0.1504      0.145     -1.038      0.300        -0.434     0.134\n",
       "ar.L3.D.Sales    -0.1831      0.046     -3.976      0.000        -0.273    -0.093\n",
       "ar.L4.D.Sales     0.2557      0.060      4.296      0.000         0.139     0.372\n",
       "ar.L5.D.Sales    -0.3381      0.067     -5.018      0.000        -0.470    -0.206\n",
       "ar.L6.D.Sales     0.0691      0.074      0.931      0.352        -0.076     0.215\n",
       "ar.L7.D.Sales    -0.0656      0.050     -1.325      0.185        -0.163     0.031\n",
       "ma.L1.D.Sales    -1.1350      0.209     -5.443      0.000        -1.544    -0.726\n",
       "ma.L2.D.Sales     0.2373      0.197      1.203      0.229        -0.149     0.624\n",
       "                                    Roots                                    \n",
       "=============================================================================\n",
       "                 Real           Imaginary           Modulus         Frequency\n",
       "-----------------------------------------------------------------------------\n",
       "AR.1           -1.2128           -0.0000j            1.2128           -0.5000\n",
       "AR.2            1.0141           -0.4950j            1.1285           -0.0723\n",
       "AR.3            1.0141           +0.4950j            1.1285            0.0723\n",
       "AR.4           -0.1357           -1.7544j            1.7597           -0.2623\n",
       "AR.5           -0.1357           +1.7544j            1.7597            0.2623\n",
       "AR.6            0.2547           -1.7666j            1.7849           -0.2272\n",
       "AR.7            0.2547           +1.7666j            1.7849            0.2272\n",
       "MA.1            1.1647           +0.0000j            1.1647            0.0000\n",
       "MA.2            3.6177           +0.0000j            3.6177            0.0000\n",
       "-----------------------------------------------------------------------------\n",
       "\"\"\""
      ]
     },
     "execution_count": 24,
     "metadata": {},
     "output_type": "execute_result"
    }
   ],
   "source": [
    "model = arima_model.ARIMA(df[df.Open == 1].Sales, (7, 1, 2)).fit()\n",
    "\n",
    "model.summary()"
   ]
  },
  {
   "cell_type": "code",
   "execution_count": 25,
   "metadata": {
    "collapsed": false
   },
   "outputs": [
    {
     "data": {
      "image/png": "[encoded data removed]",
      "text/plain": [
       "<matplotlib.figure.Figure at 0xd7d6940>"
      ]
     },
     "metadata": {},
     "output_type": "display_data"
    }
   ],
   "source": [
    "plot_acf(model.resid, lags = 50)\n",
    "\n",
    "pass"
   ]
  },
  {
   "cell_type": "markdown",
   "metadata": {},
   "source": [
    "This removes some of the autocorrelation in the residuals but large discrepancies still exist.\n",
    "\n",
    "However, they exist where we are breaking our model assumptions."
   ]
  },
  {
   "cell_type": "markdown",
   "metadata": {},
   "source": [
    "### Activity\n",
    "\n",
    "1. Alter the time period of predictions and the `p`, `d`, and `q` parameters\n",
    "1. Do any of these improve diagnostics?\n",
    "1. What does changing `p` and `q` imply based upon the autocorrelation plot?\n",
    "1. How about changing `d`?"
   ]
  },
  {
   "cell_type": "markdown",
   "metadata": {},
   "source": [
    "Answer:\n",
    "\n",
    "- Increasing `p` increases the dependency on previous values further (longer lag).  But our autocorrelation plots show this isn’t necessary past a certain point.\n",
    "- Increasing `q` increases the likelihood of an unexpected jump at a handful of points.  The autocorrelation plots show this doesn’t help past a certain point.\n",
    "- Increasing `d` increases differencing, but `d = 1` moves our data towards stationarity (other than a few points).  `d = 2` would imply an exponential trend which we don’t have here."
   ]
  },
  {
   "cell_type": "markdown",
   "metadata": {},
   "source": [
    "There are variants of `ARIMA` that will better handle the seasonal aspect of our data.  This is referred to as Seasonal `ARIMA` or `SARIMA`.\n",
    "\n",
    "These models fit two `ARIMA` models, one on the current frequency (daily in our example) and another on the seasonal frequency (maybe monthly or yearly patterns).\n",
    "\n",
    "Additionally, issues with seasonality could be handled by preprocessing tricks such as detrending."
   ]
  }
 ],
 "metadata": {
  "anaconda-cloud": {},
  "kernelspec": {
   "display_name": "Python [Root]",
   "language": "python",
   "name": "Python [Root]"
  },
  "language_info": {
   "codemirror_mode": {
    "name": "ipython",
    "version": 2
   },
   "file_extension": ".py",
   "mimetype": "text/x-python",
   "name": "python",
   "nbconvert_exporter": "python",
   "pygments_lexer": "ipython2",
   "version": "2.7.12"
  }
 },
 "nbformat": 4,
 "nbformat_minor": 0
}
