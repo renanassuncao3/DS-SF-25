{
 "cells": [
  {
   "cell_type": "markdown",
   "metadata": {},
   "source": [
    "# DS-SF-25 | Codealong and Lab 13 | Natural Language Processing and Text Classification | Answer Key"
   ]
  },
  {
   "cell_type": "markdown",
   "metadata": {},
   "source": [
    "# Codealong - Text Processing with `sklearn`"
   ]
  },
  {
   "cell_type": "code",
   "execution_count": 1,
   "metadata": {
    "collapsed": true
   },
   "outputs": [],
   "source": [
    "import os\n",
    "\n",
    "import numpy as np\n",
    "import pandas as pd\n",
    "pd.set_option('display.max_rows', 10)\n",
    "pd.set_option('display.notebook_repr_html', True)\n",
    "pd.set_option('display.max_columns', 10)\n",
    "\n",
    "from sklearn import feature_extraction, ensemble, cross_validation, metrics\n",
    "\n",
    "import matplotlib.pyplot as plt\n",
    "%matplotlib inline\n",
    "plt.style.use('ggplot')"
   ]
  },
  {
   "cell_type": "markdown",
   "metadata": {},
   "source": [
    "The data is about sentiments on Amazon reviews."
   ]
  },
  {
   "cell_type": "code",
   "execution_count": 2,
   "metadata": {
    "collapsed": false
   },
   "outputs": [],
   "source": [
    "reviews = []\n",
    "sentiments = []\n",
    "\n",
    "with open(os.path.join('..', 'datasets', 'amazon-reviews.txt')) as file:\n",
    "    for line in file.readlines():\n",
    "        line = line.strip('\\n')\n",
    "        review, sentiment = line.split('\\t')\n",
    "        sentiment = np.nan if sentiment == '' else int(sentiment)\n",
    "\n",
    "        reviews.append(review)\n",
    "        sentiments.append(sentiment)\n",
    "\n",
    "df = pd.DataFrame({'review': reviews, 'sentiment': sentiments})"
   ]
  },
  {
   "cell_type": "code",
   "execution_count": 3,
   "metadata": {
    "collapsed": false
   },
   "outputs": [
    {
     "data": {
      "text/html": [
       "<div>\n",
       "<table border=\"1\" class=\"dataframe\">\n",
       "  <thead>\n",
       "    <tr style=\"text-align: right;\">\n",
       "      <th></th>\n",
       "      <th>review</th>\n",
       "      <th>sentiment</th>\n",
       "    </tr>\n",
       "  </thead>\n",
       "  <tbody>\n",
       "    <tr>\n",
       "      <th>0</th>\n",
       "      <td>I try not to adjust the volume setting to avoi...</td>\n",
       "      <td>NaN</td>\n",
       "    </tr>\n",
       "    <tr>\n",
       "      <th>1</th>\n",
       "      <td>So there is no way for me to plug it in here i...</td>\n",
       "      <td>0.0</td>\n",
       "    </tr>\n",
       "    <tr>\n",
       "      <th>2</th>\n",
       "      <td>Good case, Excellent value.</td>\n",
       "      <td>1.0</td>\n",
       "    </tr>\n",
       "    <tr>\n",
       "      <th>3</th>\n",
       "      <td>I thought Motorola made reliable products!.</td>\n",
       "      <td>NaN</td>\n",
       "    </tr>\n",
       "    <tr>\n",
       "      <th>4</th>\n",
       "      <td>Battery for Motorola Razr.</td>\n",
       "      <td>NaN</td>\n",
       "    </tr>\n",
       "    <tr>\n",
       "      <th>...</th>\n",
       "      <td>...</td>\n",
       "      <td>...</td>\n",
       "    </tr>\n",
       "    <tr>\n",
       "      <th>14999</th>\n",
       "      <td>The screen on my phone said \"Not Charging\".</td>\n",
       "      <td>NaN</td>\n",
       "    </tr>\n",
       "    <tr>\n",
       "      <th>15000</th>\n",
       "      <td>This is my 4th Samsung cell phone with T-Mobile.</td>\n",
       "      <td>NaN</td>\n",
       "    </tr>\n",
       "    <tr>\n",
       "      <th>15001</th>\n",
       "      <td>great company.</td>\n",
       "      <td>NaN</td>\n",
       "    </tr>\n",
       "    <tr>\n",
       "      <th>15002</th>\n",
       "      <td>The \"call\" and \"hang-up\" keys are now properly...</td>\n",
       "      <td>NaN</td>\n",
       "    </tr>\n",
       "    <tr>\n",
       "      <th>15003</th>\n",
       "      <td>Hopefully the Kyocera will be better!</td>\n",
       "      <td>NaN</td>\n",
       "    </tr>\n",
       "  </tbody>\n",
       "</table>\n",
       "<p>15004 rows × 2 columns</p>\n",
       "</div>"
      ],
      "text/plain": [
       "                                                  review  sentiment\n",
       "0      I try not to adjust the volume setting to avoi...        NaN\n",
       "1      So there is no way for me to plug it in here i...        0.0\n",
       "2                            Good case, Excellent value.        1.0\n",
       "3            I thought Motorola made reliable products!.        NaN\n",
       "4                             Battery for Motorola Razr.        NaN\n",
       "...                                                  ...        ...\n",
       "14999        The screen on my phone said \"Not Charging\".        NaN\n",
       "15000   This is my 4th Samsung cell phone with T-Mobile.        NaN\n",
       "15001                                     great company.        NaN\n",
       "15002  The \"call\" and \"hang-up\" keys are now properly...        NaN\n",
       "15003              Hopefully the Kyocera will be better!        NaN\n",
       "\n",
       "[15004 rows x 2 columns]"
      ]
     },
     "execution_count": 3,
     "metadata": {},
     "output_type": "execute_result"
    }
   ],
   "source": [
    "df"
   ]
  },
  {
   "cell_type": "code",
   "execution_count": 4,
   "metadata": {
    "collapsed": true
   },
   "outputs": [],
   "source": [
    "df.dropna(inplace = True) # Let's drop NaNs"
   ]
  },
  {
   "cell_type": "code",
   "execution_count": 5,
   "metadata": {
    "collapsed": false
   },
   "outputs": [
    {
     "data": {
      "text/html": [
       "<div>\n",
       "<table border=\"1\" class=\"dataframe\">\n",
       "  <thead>\n",
       "    <tr style=\"text-align: right;\">\n",
       "      <th></th>\n",
       "      <th>review</th>\n",
       "      <th>sentiment</th>\n",
       "    </tr>\n",
       "  </thead>\n",
       "  <tbody>\n",
       "    <tr>\n",
       "      <th>1</th>\n",
       "      <td>So there is no way for me to plug it in here i...</td>\n",
       "      <td>0.0</td>\n",
       "    </tr>\n",
       "    <tr>\n",
       "      <th>2</th>\n",
       "      <td>Good case, Excellent value.</td>\n",
       "      <td>1.0</td>\n",
       "    </tr>\n",
       "    <tr>\n",
       "      <th>5</th>\n",
       "      <td>Great for the jawbone.</td>\n",
       "      <td>1.0</td>\n",
       "    </tr>\n",
       "    <tr>\n",
       "      <th>10</th>\n",
       "      <td>Tied to charger for conversations lasting more...</td>\n",
       "      <td>0.0</td>\n",
       "    </tr>\n",
       "    <tr>\n",
       "      <th>11</th>\n",
       "      <td>The mic is great.</td>\n",
       "      <td>1.0</td>\n",
       "    </tr>\n",
       "    <tr>\n",
       "      <th>...</th>\n",
       "      <td>...</td>\n",
       "      <td>...</td>\n",
       "    </tr>\n",
       "    <tr>\n",
       "      <th>2925</th>\n",
       "      <td>The screen does get smudged easily because it ...</td>\n",
       "      <td>0.0</td>\n",
       "    </tr>\n",
       "    <tr>\n",
       "      <th>2930</th>\n",
       "      <td>What a piece of junk.. I lose more calls on th...</td>\n",
       "      <td>0.0</td>\n",
       "    </tr>\n",
       "    <tr>\n",
       "      <th>2934</th>\n",
       "      <td>Item Does Not Match Picture.</td>\n",
       "      <td>0.0</td>\n",
       "    </tr>\n",
       "    <tr>\n",
       "      <th>2935</th>\n",
       "      <td>The only thing that disappoint me is the infra...</td>\n",
       "      <td>0.0</td>\n",
       "    </tr>\n",
       "    <tr>\n",
       "      <th>2937</th>\n",
       "      <td>You can not answer calls with the unit, never ...</td>\n",
       "      <td>0.0</td>\n",
       "    </tr>\n",
       "  </tbody>\n",
       "</table>\n",
       "<p>1000 rows × 2 columns</p>\n",
       "</div>"
      ],
      "text/plain": [
       "                                                 review  sentiment\n",
       "1     So there is no way for me to plug it in here i...        0.0\n",
       "2                           Good case, Excellent value.        1.0\n",
       "5                                Great for the jawbone.        1.0\n",
       "10    Tied to charger for conversations lasting more...        0.0\n",
       "11                                    The mic is great.        1.0\n",
       "...                                                 ...        ...\n",
       "2925  The screen does get smudged easily because it ...        0.0\n",
       "2930  What a piece of junk.. I lose more calls on th...        0.0\n",
       "2934                       Item Does Not Match Picture.        0.0\n",
       "2935  The only thing that disappoint me is the infra...        0.0\n",
       "2937  You can not answer calls with the unit, never ...        0.0\n",
       "\n",
       "[1000 rows x 2 columns]"
      ]
     },
     "execution_count": 5,
     "metadata": {},
     "output_type": "execute_result"
    }
   ],
   "source": [
    "df"
   ]
  },
  {
   "cell_type": "code",
   "execution_count": 6,
   "metadata": {
    "collapsed": true
   },
   "outputs": [],
   "source": [
    "X = df.review\n",
    "y = df.sentiment"
   ]
  },
  {
   "cell_type": "code",
   "execution_count": 7,
   "metadata": {
    "collapsed": false
   },
   "outputs": [
    {
     "data": {
      "text/plain": [
       "1       So there is no way for me to plug it in here i...\n",
       "2                             Good case, Excellent value.\n",
       "5                                  Great for the jawbone.\n",
       "10      Tied to charger for conversations lasting more...\n",
       "11                                      The mic is great.\n",
       "                              ...                        \n",
       "2925    The screen does get smudged easily because it ...\n",
       "2930    What a piece of junk.. I lose more calls on th...\n",
       "2934                         Item Does Not Match Picture.\n",
       "2935    The only thing that disappoint me is the infra...\n",
       "2937    You can not answer calls with the unit, never ...\n",
       "Name: review, dtype: object"
      ]
     },
     "execution_count": 7,
     "metadata": {},
     "output_type": "execute_result"
    }
   ],
   "source": [
    "X"
   ]
  },
  {
   "cell_type": "code",
   "execution_count": 8,
   "metadata": {
    "collapsed": false
   },
   "outputs": [
    {
     "data": {
      "text/plain": [
       "1       0.0\n",
       "2       1.0\n",
       "5       1.0\n",
       "10      0.0\n",
       "11      1.0\n",
       "       ... \n",
       "2925    0.0\n",
       "2930    0.0\n",
       "2934    0.0\n",
       "2935    0.0\n",
       "2937    0.0\n",
       "Name: sentiment, dtype: float64"
      ]
     },
     "execution_count": 8,
     "metadata": {},
     "output_type": "execute_result"
    }
   ],
   "source": [
    "y"
   ]
  },
  {
   "cell_type": "markdown",
   "metadata": {},
   "source": [
    "## Train/test sets"
   ]
  },
  {
   "cell_type": "code",
   "execution_count": 9,
   "metadata": {
    "collapsed": true
   },
   "outputs": [],
   "source": [
    "train_X, test_X, train_y, test_y = cross_validation.train_test_split(X, y, train_size = .6, random_state = 0)"
   ]
  },
  {
   "cell_type": "code",
   "execution_count": 10,
   "metadata": {
    "collapsed": false
   },
   "outputs": [
    {
     "data": {
      "text/plain": [
       "2002    A must study for anyone interested in the \"wor...\n",
       "277     I purcashed this for the car charger and it do...\n",
       "1991    I'm happy about this purchase- good quality an...\n",
       "1215                               Soyo technology sucks.\n",
       "1933                      Very Dissapointing Performance.\n",
       "                              ...                        \n",
       "2417    The calls drop, the phone comes on and off at ...\n",
       "597     Lately they have been extremely nice and helpf...\n",
       "1937    I recommend iGo to anyone with different brand...\n",
       "1727                 None of it works, just don't buy it.\n",
       "2023                           Chinese Forgeries Abound!.\n",
       "Name: review, dtype: object"
      ]
     },
     "execution_count": 10,
     "metadata": {},
     "output_type": "execute_result"
    }
   ],
   "source": [
    "train_X"
   ]
  },
  {
   "cell_type": "markdown",
   "metadata": {
    "collapsed": true
   },
   "source": [
    "## `CountVectorizer`"
   ]
  },
  {
   "cell_type": "markdown",
   "metadata": {},
   "source": [
    "`CountVectorizer` converts a collection of text into a matrix of features.  Each row will be a sample (an article or piece of text) and each column will be a text feature (usually a count or binary feature per word).\n",
    "\n",
    "Vectorizers are like other models in `sklearn`:\n",
    "- We create a vectorizer object with the parameters of our feature space\n",
    "- We fit a vectorizer to learn the vocabulary\n",
    "- We transform a set of text into that feature space\n",
    "\n",
    "(And check http://scikit-learn.org/stable/modules/generated/sklearn.feature_extraction.text.CountVectorizer.html as needed)"
   ]
  },
  {
   "cell_type": "code",
   "execution_count": 11,
   "metadata": {
    "collapsed": false
   },
   "outputs": [],
   "source": [
    "vectorizer = feature_extraction.text.CountVectorizer(stop_words = 'english')"
   ]
  },
  {
   "cell_type": "code",
   "execution_count": 12,
   "metadata": {
    "collapsed": false
   },
   "outputs": [
    {
     "data": {
      "text/plain": [
       "CountVectorizer(analyzer=u'word', binary=False, decode_error=u'strict',\n",
       "        dtype=<type 'numpy.int64'>, encoding=u'utf-8', input=u'content',\n",
       "        lowercase=True, max_df=1.0, max_features=None, min_df=1,\n",
       "        ngram_range=(1, 1), preprocessor=None, stop_words='english',\n",
       "        strip_accents=None, token_pattern=u'(?u)\\\\b\\\\w\\\\w+\\\\b',\n",
       "        tokenizer=None, vocabulary=None)"
      ]
     },
     "execution_count": 12,
     "metadata": {},
     "output_type": "execute_result"
    }
   ],
   "source": [
    "vectorizer"
   ]
  },
  {
   "cell_type": "markdown",
   "metadata": {},
   "source": [
    "Note: Stopwords are non-content words.  (e.g. 'to', 'the', and 'it'); they aren’t helpful for prediction, so we remove them."
   ]
  },
  {
   "cell_type": "code",
   "execution_count": 13,
   "metadata": {
    "collapsed": false
   },
   "outputs": [
    {
     "data": {
      "text/plain": [
       "CountVectorizer(analyzer=u'word', binary=False, decode_error=u'strict',\n",
       "        dtype=<type 'numpy.int64'>, encoding=u'utf-8', input=u'content',\n",
       "        lowercase=True, max_df=1.0, max_features=None, min_df=1,\n",
       "        ngram_range=(1, 1), preprocessor=None, stop_words='english',\n",
       "        strip_accents=None, token_pattern=u'(?u)\\\\b\\\\w\\\\w+\\\\b',\n",
       "        tokenizer=None, vocabulary=None)"
      ]
     },
     "execution_count": 13,
     "metadata": {},
     "output_type": "execute_result"
    }
   ],
   "source": [
    "vectorizer.fit(train_X)"
   ]
  },
  {
   "cell_type": "markdown",
   "metadata": {},
   "source": [
    "The bag-of-words:"
   ]
  },
  {
   "cell_type": "code",
   "execution_count": 14,
   "metadata": {
    "collapsed": false
   },
   "outputs": [
    {
     "data": {
      "text/plain": [
       "[u'10',\n",
       " u'100',\n",
       " u'12',\n",
       " u'13',\n",
       " u'15',\n",
       " u'15g',\n",
       " u'18',\n",
       " u'20',\n",
       " u'2005',\n",
       " u'325',\n",
       " u'350',\n",
       " u'375',\n",
       " u'42',\n",
       " u'44',\n",
       " u'45',\n",
       " u'50',\n",
       " u'510',\n",
       " u'5320',\n",
       " u'700w',\n",
       " u'8125',\n",
       " u'8525',\n",
       " u'8530',\n",
       " u'abhor',\n",
       " u'ability',\n",
       " u'able',\n",
       " u'abound',\n",
       " u'absolutely',\n",
       " u'accept',\n",
       " u'access',\n",
       " u'accessing',\n",
       " u'accessory',\n",
       " u'accidentally',\n",
       " u'accompanied',\n",
       " u'according',\n",
       " u'activate',\n",
       " u'activated',\n",
       " u'actually',\n",
       " u'ad',\n",
       " u'add',\n",
       " u'address',\n",
       " u'adhesive',\n",
       " u'adorable',\n",
       " u'advise',\n",
       " u'aggravating',\n",
       " u'ago',\n",
       " u'allowing',\n",
       " u'allows',\n",
       " u'alot',\n",
       " u'amazed',\n",
       " u'amazon',\n",
       " u'ample',\n",
       " u'angeles',\n",
       " u'answer',\n",
       " u'antena',\n",
       " u'anti',\n",
       " u'apartment',\n",
       " u'apparently',\n",
       " u'appealing',\n",
       " u'appearance',\n",
       " u'appears',\n",
       " u'applifies',\n",
       " u'area',\n",
       " u'arguing',\n",
       " u'arrival',\n",
       " u'arrived',\n",
       " u'asia',\n",
       " u'ask',\n",
       " u'assumed',\n",
       " u'atleast',\n",
       " u'att',\n",
       " u'attacked',\n",
       " u'audio',\n",
       " u'authentic',\n",
       " u'auto',\n",
       " u'available',\n",
       " u'average',\n",
       " u'avoid',\n",
       " u'away',\n",
       " u'awesome',\n",
       " u'awful',\n",
       " u'awkward',\n",
       " u'awsome',\n",
       " u'background',\n",
       " u'backlight',\n",
       " u'bad',\n",
       " u'balance',\n",
       " u'bar',\n",
       " u'barely',\n",
       " u'bargain',\n",
       " u'bars',\n",
       " u'basement',\n",
       " u'basic',\n",
       " u'basically',\n",
       " u'batteries',\n",
       " u'battery',\n",
       " u'beat',\n",
       " u'beautiful',\n",
       " u'bed',\n",
       " u'beep',\n",
       " u'beeping',\n",
       " u'believe',\n",
       " u'bells',\n",
       " u'belt',\n",
       " u'bend',\n",
       " u'best',\n",
       " u'better',\n",
       " u'beware',\n",
       " u'big',\n",
       " u'bit',\n",
       " u'black',\n",
       " u'blackberry',\n",
       " u'blacktop',\n",
       " u'bland',\n",
       " u'blue',\n",
       " u'blueant',\n",
       " u'bluetooth',\n",
       " u'bluetooths',\n",
       " u'book',\n",
       " u'boost',\n",
       " u'boot',\n",
       " u'bottowm',\n",
       " u'bought',\n",
       " u'bougth',\n",
       " u'boy',\n",
       " u'brand',\n",
       " u'break',\n",
       " u'breaking',\n",
       " u'breaks',\n",
       " u'brilliant',\n",
       " u'broke',\n",
       " u'broken',\n",
       " u'browser',\n",
       " u'browsing',\n",
       " u'bt',\n",
       " u'bt50',\n",
       " u'bucks',\n",
       " u'buds',\n",
       " u'built',\n",
       " u'bulky',\n",
       " u'bumpers',\n",
       " u'button',\n",
       " u'buttons',\n",
       " u'buy',\n",
       " u'buyer',\n",
       " u'buying',\n",
       " u'buyit',\n",
       " u'buzzing',\n",
       " u'ca',\n",
       " u'cable',\n",
       " u'cables',\n",
       " u'called',\n",
       " u'calls',\n",
       " u'came',\n",
       " u'camera',\n",
       " u'canal',\n",
       " u'cancellation',\n",
       " u'capability',\n",
       " u'car',\n",
       " u'card',\n",
       " u'care',\n",
       " u'careful',\n",
       " u'carried',\n",
       " u'carriers',\n",
       " u'carries',\n",
       " u'case',\n",
       " u'cases',\n",
       " u'casing',\n",
       " u'cassette',\n",
       " u'cat',\n",
       " u'catching',\n",
       " u'caused',\n",
       " u'cds',\n",
       " u'cell',\n",
       " u'cellphone',\n",
       " u'cellphones',\n",
       " u'cellular',\n",
       " u'cent',\n",
       " u'certain',\n",
       " u'certainly',\n",
       " u'changing',\n",
       " u'charge',\n",
       " u'charged',\n",
       " u'charger',\n",
       " u'chargers',\n",
       " u'charges',\n",
       " u'charging',\n",
       " u'charm',\n",
       " u'cheap',\n",
       " u'cheaper',\n",
       " u'cheaply',\n",
       " u'cheapy',\n",
       " u'check',\n",
       " u'checked',\n",
       " u'child',\n",
       " u'china',\n",
       " u'chinese',\n",
       " u'choice',\n",
       " u'cingular',\n",
       " u'clarity',\n",
       " u'classy',\n",
       " u'clear',\n",
       " u'clearly',\n",
       " u'clicks',\n",
       " u'clip',\n",
       " u'clipping',\n",
       " u'clips',\n",
       " u'color',\n",
       " u'combination',\n",
       " u'comes',\n",
       " u'comfort',\n",
       " u'comfortable',\n",
       " u'comfortably',\n",
       " u'coming',\n",
       " u'comments',\n",
       " u'commercials',\n",
       " u'company',\n",
       " u'comparably',\n",
       " u'compete',\n",
       " u'complain',\n",
       " u'complained',\n",
       " u'complaints',\n",
       " u'completely',\n",
       " u'compromise',\n",
       " u'computer',\n",
       " u'confusing',\n",
       " u'connect',\n",
       " u'connected',\n",
       " u'connection',\n",
       " u'constantly',\n",
       " u'construction',\n",
       " u'consumer',\n",
       " u'contact',\n",
       " u'contacts',\n",
       " u'continue',\n",
       " u'continues',\n",
       " u'contract',\n",
       " u'contstruct',\n",
       " u'convenient',\n",
       " u'conversation',\n",
       " u'conversations',\n",
       " u'converter',\n",
       " u'cool',\n",
       " u'copier',\n",
       " u'copy',\n",
       " u'correctly',\n",
       " u'costs',\n",
       " u'couldn',\n",
       " u'counterfeit',\n",
       " u'couple',\n",
       " u'coupon',\n",
       " u'cover',\n",
       " u'coverage',\n",
       " u'crack',\n",
       " u'cradle',\n",
       " u'crap',\n",
       " u'crashed',\n",
       " u'crawl',\n",
       " u'creaks',\n",
       " u'crisp',\n",
       " u'cumbersome',\n",
       " u'current',\n",
       " u'currently',\n",
       " u'curve',\n",
       " u'customer',\n",
       " u'cut',\n",
       " u'cute',\n",
       " u'cuts',\n",
       " u'damage',\n",
       " u'darn',\n",
       " u'data',\n",
       " u'date',\n",
       " u'day',\n",
       " u'days',\n",
       " u'dead',\n",
       " u'deaf',\n",
       " u'deal',\n",
       " u'decade',\n",
       " u'decent',\n",
       " u'decision',\n",
       " u'defeats',\n",
       " u'defect',\n",
       " u'defective',\n",
       " u'deffinitely',\n",
       " u'definitely',\n",
       " u'delay',\n",
       " u'described',\n",
       " u'description',\n",
       " u'design',\n",
       " u'designed',\n",
       " u'designs',\n",
       " u'despite',\n",
       " u'destroying',\n",
       " u'detachable',\n",
       " u'detailed',\n",
       " u'development',\n",
       " u'device',\n",
       " u'dialing',\n",
       " u'did',\n",
       " u'didn',\n",
       " u'died',\n",
       " u'dieing',\n",
       " u'different',\n",
       " u'difficult',\n",
       " u'directed',\n",
       " u'dirty',\n",
       " u'disapoinment',\n",
       " u'disapointing',\n",
       " u'disappointed',\n",
       " u'disappointing',\n",
       " u'disappointment',\n",
       " u'discarded',\n",
       " u'disconnected',\n",
       " u'discount',\n",
       " u'display',\n",
       " u'disposable',\n",
       " u'dissapointing',\n",
       " u'dit',\n",
       " u'division',\n",
       " u'dna',\n",
       " u'docking',\n",
       " u'does',\n",
       " u'doesn',\n",
       " u'doing',\n",
       " u'don',\n",
       " u'dont',\n",
       " u'download',\n",
       " u'downloading',\n",
       " u'dozen',\n",
       " u'dozens',\n",
       " u'drain',\n",
       " u'drained',\n",
       " u'driving',\n",
       " u'drivng',\n",
       " u'drop',\n",
       " u'dropped',\n",
       " u'dropping',\n",
       " u'drops',\n",
       " u'dustpan',\n",
       " u'dying',\n",
       " u'e2',\n",
       " u'ear',\n",
       " u'earbud',\n",
       " u'earbuds',\n",
       " u'earbugs',\n",
       " u'eargels',\n",
       " u'earlier',\n",
       " u'earpad',\n",
       " u'earphone',\n",
       " u'earphones',\n",
       " u'earpiece',\n",
       " u'earpieces',\n",
       " u'ears',\n",
       " u'earset',\n",
       " u'ease',\n",
       " u'easier',\n",
       " u'easily',\n",
       " u'easy',\n",
       " u'echo',\n",
       " u'effect',\n",
       " u'effective',\n",
       " u'effects',\n",
       " u'effort',\n",
       " u'electronics',\n",
       " u'elegant',\n",
       " u'embarassing',\n",
       " u'embarrassing',\n",
       " u'embedded',\n",
       " u'encourage',\n",
       " u'end',\n",
       " u'ended',\n",
       " u'enter',\n",
       " u'entire',\n",
       " u'env',\n",
       " u'ergonomic',\n",
       " u'ericsson',\n",
       " u'especially',\n",
       " u'europe',\n",
       " u'eventually',\n",
       " u'everyday',\n",
       " u'exactly',\n",
       " u'excellent',\n",
       " u'exchange',\n",
       " u'exchanged',\n",
       " u'excited',\n",
       " u'excrutiatingly',\n",
       " u'exercise',\n",
       " u'existing',\n",
       " u'expect',\n",
       " u'expected',\n",
       " u'expensive',\n",
       " u'experience',\n",
       " u'experienced',\n",
       " u'explain',\n",
       " u'extended',\n",
       " u'exterior',\n",
       " u'extra',\n",
       " u'extremely',\n",
       " u'eye',\n",
       " u'face',\n",
       " u'faceplates',\n",
       " u'failed',\n",
       " u'fails',\n",
       " u'falling',\n",
       " u'family',\n",
       " u'fantastic',\n",
       " u'far',\n",
       " u'fast',\n",
       " u'faster',\n",
       " u'father',\n",
       " u'feature',\n",
       " u'fee',\n",
       " u'feel',\n",
       " u'feels',\n",
       " u'felt',\n",
       " u'fi',\n",
       " u'figure',\n",
       " u'file',\n",
       " u'finally',\n",
       " u'finds',\n",
       " u'fine',\n",
       " u'fit',\n",
       " u'fits',\n",
       " u'flash',\n",
       " u'flaw',\n",
       " u'flawed',\n",
       " u'flawless',\n",
       " u'flawlessly',\n",
       " u'flimsy',\n",
       " u'flip',\n",
       " u'flipphones',\n",
       " u'fliptop',\n",
       " u'floor',\n",
       " u'floppy',\n",
       " u'flops',\n",
       " u'fm',\n",
       " u'fooled',\n",
       " u'forced',\n",
       " u'forgeries',\n",
       " u'forget',\n",
       " u'forgot',\n",
       " u'form',\n",
       " u'fourth',\n",
       " u'fraction',\n",
       " u'free',\n",
       " u'freeway',\n",
       " u'freezes',\n",
       " u'frequently4',\n",
       " u'frequentyly',\n",
       " u'friendly',\n",
       " u'frog',\n",
       " u'frustration',\n",
       " u'fulfills',\n",
       " u'fully',\n",
       " u'fun',\n",
       " u'function',\n",
       " u'functional',\n",
       " u'functionality',\n",
       " u'functions',\n",
       " u'funny',\n",
       " u'gadgets',\n",
       " u'games',\n",
       " u'garbage',\n",
       " u'gave',\n",
       " u'geeky',\n",
       " u'gentle',\n",
       " u'gets',\n",
       " u'getting',\n",
       " u'gimmick',\n",
       " u'girl',\n",
       " u'given',\n",
       " u'glad',\n",
       " u'glare',\n",
       " u'glasses',\n",
       " u'glued',\n",
       " u'goes',\n",
       " u'going',\n",
       " u'good',\n",
       " u'got',\n",
       " u'gotten',\n",
       " u'great',\n",
       " u'greater',\n",
       " u'grey',\n",
       " u'grip',\n",
       " u'grtting',\n",
       " u'guess',\n",
       " u'h500',\n",
       " u'hair',\n",
       " u'hand',\n",
       " u'hands',\n",
       " u'handsfree',\n",
       " u'handy',\n",
       " u'happening',\n",
       " u'happens',\n",
       " u'happier',\n",
       " u'happy',\n",
       " u'hard',\n",
       " u'hardly',\n",
       " u'hat',\n",
       " u'hate',\n",
       " u'hated',\n",
       " u'having',\n",
       " u'headbands',\n",
       " u'headphones',\n",
       " u'headset',\n",
       " u'headsets',\n",
       " u'hear',\n",
       " u'heavy',\n",
       " u'helpful',\n",
       " u'high',\n",
       " u'highest',\n",
       " u'highly',\n",
       " u'hinge',\n",
       " u'hitch',\n",
       " u'hold',\n",
       " u'holder',\n",
       " u'holding',\n",
       " u'holds',\n",
       " u'holster',\n",
       " u'home',\n",
       " u'hook',\n",
       " u'hoping',\n",
       " u'horrible',\n",
       " u'hour',\n",
       " u'hours',\n",
       " u'house',\n",
       " u'hs850',\n",
       " u'huge',\n",
       " u'humans',\n",
       " u'hurt',\n",
       " u'hype',\n",
       " u'idea',\n",
       " u'igo',\n",
       " u'ill',\n",
       " u'im',\n",
       " u'imagine',\n",
       " u'immediately',\n",
       " u'important',\n",
       " u'impossible',\n",
       " u'impressed',\n",
       " u'impressive',\n",
       " u'improper',\n",
       " u'improvement',\n",
       " u'included',\n",
       " u'incoming',\n",
       " u'inconspicuous',\n",
       " u'incredible',\n",
       " u'indoors',\n",
       " u'industrial',\n",
       " u'inexcusable',\n",
       " u'infatuated',\n",
       " u'inform',\n",
       " u'infuriating',\n",
       " u'insert',\n",
       " u'inside',\n",
       " u'install',\n",
       " u'installed',\n",
       " u'instead',\n",
       " u'instructions',\n",
       " u'integrated',\n",
       " u'intended',\n",
       " u'interested',\n",
       " u'interface',\n",
       " u'intermittently',\n",
       " u'internet',\n",
       " u'invented',\n",
       " u'investment',\n",
       " u'iphone',\n",
       " u'ipod',\n",
       " u'iriver',\n",
       " u'isn',\n",
       " u'issues',\n",
       " u'item',\n",
       " u'items',\n",
       " u'jabra',\n",
       " u'jabra350',\n",
       " u'jack',\n",
       " u'jawbone',\n",
       " u'job',\n",
       " u'joke',\n",
       " u'joy',\n",
       " u'junk',\n",
       " u'just',\n",
       " u'jx',\n",
       " u'keen',\n",
       " u'keeping',\n",
       " u'keeps',\n",
       " u'kept',\n",
       " u'key',\n",
       " u'keyboard',\n",
       " u'keypad',\n",
       " u'keys',\n",
       " u'kind',\n",
       " u'know',\n",
       " u'knows',\n",
       " u'l7c',\n",
       " u'lacking',\n",
       " u'land',\n",
       " u'large',\n",
       " u'lasting',\n",
       " u'latch',\n",
       " u'lately',\n",
       " u'later',\n",
       " u'latest',\n",
       " u'leaf',\n",
       " u'leather',\n",
       " u'left',\n",
       " u'leopard',\n",
       " u'let',\n",
       " u'letting',\n",
       " u'lg',\n",
       " u'life',\n",
       " u'light',\n",
       " u'lights',\n",
       " u'lightweight',\n",
       " u'like',\n",
       " u'liked',\n",
       " u'likes',\n",
       " u'line',\n",
       " u'linked',\n",
       " u'linking',\n",
       " u'linksys',\n",
       " u'listener',\n",
       " u'listening',\n",
       " u'lit',\n",
       " u'literally',\n",
       " u'little',\n",
       " u'living',\n",
       " u'll',\n",
       " u'loads',\n",
       " u'lock',\n",
       " u'locked',\n",
       " u'locks',\n",
       " u'logitech',\n",
       " u'long',\n",
       " u'longer',\n",
       " u'look',\n",
       " u'looking',\n",
       " u'looks',\n",
       " u'loop',\n",
       " u'loose',\n",
       " u'los',\n",
       " u'lose',\n",
       " u'lost',\n",
       " u'lot',\n",
       " u'lots',\n",
       " u'loud',\n",
       " u'loudest',\n",
       " u'loudspeaker',\n",
       " u'lousy',\n",
       " u'love',\n",
       " u'low',\n",
       " u'mail',\n",
       " u'mainly',\n",
       " u'maintain',\n",
       " u'maintains',\n",
       " u'major',\n",
       " u'majority',\n",
       " u'make',\n",
       " u'makes',\n",
       " u'making',\n",
       " u'managed',\n",
       " u'manufacturer',\n",
       " u'mark',\n",
       " u'market',\n",
       " u'match',\n",
       " u'means',\n",
       " u'mechanism',\n",
       " u'mediocre',\n",
       " u'memory',\n",
       " u'mention',\n",
       " u'mess',\n",
       " u'message',\n",
       " u'messages',\n",
       " u'messes',\n",
       " u'metal',\n",
       " u'metro',\n",
       " u'mic',\n",
       " u'microphone',\n",
       " u'mini',\n",
       " u'minutes',\n",
       " u'misleading',\n",
       " u'missed',\n",
       " u'mistake',\n",
       " u'mobile',\n",
       " u'mode',\n",
       " u'model',\n",
       " u'modest',\n",
       " u'money',\n",
       " u'monkeys',\n",
       " u'months',\n",
       " u'morning',\n",
       " u'mother',\n",
       " u'moto',\n",
       " u'motorola',\n",
       " u'motorolas',\n",
       " u'moving',\n",
       " u'mp3',\n",
       " u'muddy',\n",
       " u'muffled',\n",
       " u'music',\n",
       " u'nearly',\n",
       " u'need',\n",
       " u'needed',\n",
       " u'needs',\n",
       " u'negatively',\n",
       " u'network',\n",
       " u'new',\n",
       " u'ngage',\n",
       " u'nice',\n",
       " u'nicely',\n",
       " u'night',\n",
       " u'nightmare',\n",
       " u'noise',\n",
       " u'nokia',\n",
       " u'normal',\n",
       " u'note',\n",
       " u'noted',\n",
       " u'notice',\n",
       " u'noticed',\n",
       " u'number',\n",
       " u'numerous',\n",
       " u'obviously',\n",
       " u'offering',\n",
       " u'offers',\n",
       " u'oh',\n",
       " u'ok',\n",
       " u'old',\n",
       " u'ones',\n",
       " u'oozes',\n",
       " u'open',\n",
       " u'opens',\n",
       " u'operate',\n",
       " u'operates',\n",
       " u'option',\n",
       " u'options',\n",
       " u'order',\n",
       " u'ordered',\n",
       " u'ordering',\n",
       " u'orders',\n",
       " u'organizational',\n",
       " u'original',\n",
       " u'originally',\n",
       " u'os',\n",
       " u'outgoing',\n",
       " u'outlet',\n",
       " u'outperform',\n",
       " u'outside',\n",
       " u'overall',\n",
       " u'overnight',\n",
       " u'overnite',\n",
       " u'override',\n",
       " u'owned',\n",
       " u'owner',\n",
       " u'package',\n",
       " u'packaged',\n",
       " u'pad',\n",
       " u'pair',\n",
       " u'paired',\n",
       " u'pairing',\n",
       " u'palm',\n",
       " u'particular',\n",
       " u'party',\n",
       " u'passed',\n",
       " u'pay',\n",
       " u'pc',\n",
       " u'pcs',\n",
       " u'pda',\n",
       " u'peachy',\n",
       " u'penny',\n",
       " u'people',\n",
       " u'perfectly',\n",
       " u'performance',\n",
       " u'performed',\n",
       " u'performing',\n",
       " u'periodically',\n",
       " u'person',\n",
       " u'petroleum',\n",
       " u'phone',\n",
       " u'phones',\n",
       " u'photo',\n",
       " u'picture',\n",
       " u'pictures',\n",
       " u'piece',\n",
       " u'pitiful',\n",
       " u'place',\n",
       " u'places',\n",
       " u'plan',\n",
       " u'planning',\n",
       " u'plantronics',\n",
       " u'plantronincs',\n",
       " u'plastic',\n",
       " u'play',\n",
       " u'player',\n",
       " u'players',\n",
       " u'pleased',\n",
       " u'plug',\n",
       " u'plugged',\n",
       " u'plugs',\n",
       " u'plus',\n",
       " u'pocket',\n",
       " u'point',\n",
       " u'poor',\n",
       " u'poorly',\n",
       " u'portable',\n",
       " u'portraits',\n",
       " u'possesed',\n",
       " u'posted',\n",
       " u'power',\n",
       " u'practical',\n",
       " u'practically',\n",
       " u'practice',\n",
       " u'premium',\n",
       " u'pretty',\n",
       " u'prevents',\n",
       " u'previous',\n",
       " u'price',\n",
       " u'priced',\n",
       " u'prime',\n",
       " u'print',\n",
       " u'probably',\n",
       " u'problem',\n",
       " u'problems',\n",
       " u'procedures',\n",
       " u'product',\n",
       " u'products',\n",
       " u'prompt',\n",
       " u'properly',\n",
       " u'pros',\n",
       " u'protection',\n",
       " u'protective',\n",
       " u'protector',\n",
       " u'protects',\n",
       " u'provided',\n",
       " u'provides',\n",
       " u'puff',\n",
       " u'pull',\n",
       " u'purcashed',\n",
       " u'purchase',\n",
       " u'purchased',\n",
       " u'purchasing',\n",
       " u'purpose',\n",
       " u'push',\n",
       " u'pushed',\n",
       " u'quality',\n",
       " u'quick',\n",
       " u'quickly',\n",
       " u'quiet',\n",
       " u'quit',\n",
       " u'quite',\n",
       " u'qwerty',\n",
       " u'r450',\n",
       " u'randomly',\n",
       " u'range',\n",
       " u'rate',\n",
       " u'razr',\n",
       " u'reaching',\n",
       " u'reading',\n",
       " u'ready',\n",
       " u'real',\n",
       " u'realize',\n",
       " u'really',\n",
       " u'reason',\n",
       " u'reasonably',\n",
       " u'reboots',\n",
       " u'receive',\n",
       " u'received',\n",
       " u'receiving',\n",
       " u'recently',\n",
       " u'reception',\n",
       " u'recharge',\n",
       " u'recognition',\n",
       " u'recognizes',\n",
       " u'recommend',\n",
       " u'red',\n",
       " u'refund',\n",
       " u'refurb',\n",
       " u'refused',\n",
       " u'regarding',\n",
       " u'regretted',\n",
       " u'replace',\n",
       " u'replaced',\n",
       " u'replacement',\n",
       " u'requirements',\n",
       " u'research',\n",
       " u'resolution',\n",
       " u'respect',\n",
       " u'restocking',\n",
       " u'results',\n",
       " u'return',\n",
       " u'returned',\n",
       " u'returning',\n",
       " u'reverse',\n",
       " u'reversible',\n",
       " u'review',\n",
       " u'ride',\n",
       " u'right',\n",
       " u'riingtones',\n",
       " u'ring',\n",
       " u'ringing',\n",
       " u'ringtones',\n",
       " u'rip',\n",
       " u'risk',\n",
       " u'roam',\n",
       " u'rocks',\n",
       " u'room',\n",
       " u'row',\n",
       " u'rubber',\n",
       " u'run',\n",
       " u'runs',\n",
       " u's710a',\n",
       " u'saggy',\n",
       " u'said',\n",
       " u'samsung',\n",
       " u'sanyo',\n",
       " u'satisfied',\n",
       " u'save',\n",
       " u'saved',\n",
       " u'say',\n",
       " u'saying',\n",
       " u'says',\n",
       " u'scary',\n",
       " u'sch',\n",
       " u'scratched',\n",
       " u'screen',\n",
       " u'screens',\n",
       " u'seamlessly',\n",
       " u'searched',\n",
       " u'seat',\n",
       " u'seconds',\n",
       " u'secure',\n",
       " u'securely',\n",
       " u'self',\n",
       " u'seller',\n",
       " u'send',\n",
       " u'sending',\n",
       " u'sensor',\n",
       " u'series',\n",
       " u'seriously',\n",
       " u'service',\n",
       " u'set',\n",
       " u'setting',\n",
       " u'setup',\n",
       " u'severe',\n",
       " u'sex',\n",
       " u'shape',\n",
       " u'share',\n",
       " u'sharp',\n",
       " u'shine',\n",
       " u'shiny',\n",
       " u'shipping',\n",
       " u'shooters',\n",
       " u'shots',\n",
       " u'shouldn',\n",
       " u'shouldve',\n",
       " u'shouting',\n",
       " u'shows',\n",
       " u'sides',\n",
       " u'signal',\n",
       " u'signals',\n",
       " u'significantly',\n",
       " u'signs',\n",
       " u'simple',\n",
       " u'simpler',\n",
       " u'simply',\n",
       " u'sins',\n",
       " u'sitting',\n",
       " u'situations',\n",
       " u'size',\n",
       " u'sizes',\n",
       " u'sketchy',\n",
       " u'skype',\n",
       " u'sleek',\n",
       " u'slid',\n",
       " u'slide',\n",
       " u'slider',\n",
       " u'slim',\n",
       " u'slipping',\n",
       " u'slow',\n",
       " u'slowly',\n",
       " u'small',\n",
       " u'smallest',\n",
       " u'smartphone',\n",
       " u'smell',\n",
       " u'smoke',\n",
       " u'smoking',\n",
       " u'smoother',\n",
       " u'smoothly',\n",
       " u'smudged',\n",
       " u'snap',\n",
       " u'soft',\n",
       " u'software',\n",
       " u'sold',\n",
       " u'sony',\n",
       " u'soon',\n",
       " u'sooner',\n",
       " u'sos',\n",
       " u'sound',\n",
       " u'sounded',\n",
       " u'sounds',\n",
       " u'source',\n",
       " ...]"
      ]
     },
     "execution_count": 14,
     "metadata": {},
     "output_type": "execute_result"
    }
   ],
   "source": [
    "vectorizer.get_feature_names()"
   ]
  },
  {
   "cell_type": "markdown",
   "metadata": {},
   "source": [
    "We now use `tranform` to generate the sample X word matrix; one column per feature (here, a word)"
   ]
  },
  {
   "cell_type": "code",
   "execution_count": 15,
   "metadata": {
    "collapsed": false
   },
   "outputs": [],
   "source": [
    "train_X = vectorizer.transform(train_X)\n",
    "test_X = vectorizer.transform(test_X)"
   ]
  },
  {
   "cell_type": "code",
   "execution_count": 16,
   "metadata": {
    "collapsed": false
   },
   "outputs": [
    {
     "data": {
      "text/plain": [
       "<600x1210 sparse matrix of type '<type 'numpy.int64'>'\n",
       "\twith 2880 stored elements in Compressed Sparse Row format>"
      ]
     },
     "execution_count": 16,
     "metadata": {},
     "output_type": "execute_result"
    }
   ],
   "source": [
    "train_X"
   ]
  },
  {
   "cell_type": "markdown",
   "metadata": {
    "collapsed": true
   },
   "source": [
    "While dense matrices store every entry in the matrix, sparse matrices only store the nonzero entries.  Sparse matrices don't have a lot of extra features, and some algorithms may not work for them so you use them when you need to work with matrices that would be too big for the computer to handle them, but they are mostly zero, so they compress easily.  You can convert from sparse matrices to dense matrices with `.todense()`"
   ]
  },
  {
   "cell_type": "code",
   "execution_count": 17,
   "metadata": {
    "collapsed": false
   },
   "outputs": [
    {
     "data": {
      "text/plain": [
       "matrix([[0, 0, 0, ..., 0, 0, 0],\n",
       "        [0, 0, 0, ..., 0, 0, 0],\n",
       "        [0, 0, 0, ..., 0, 0, 0],\n",
       "        ..., \n",
       "        [0, 0, 0, ..., 0, 0, 0],\n",
       "        [0, 0, 0, ..., 0, 0, 0],\n",
       "        [0, 0, 0, ..., 0, 0, 0]], dtype=int64)"
      ]
     },
     "execution_count": 17,
     "metadata": {},
     "output_type": "execute_result"
    }
   ],
   "source": [
    "train_X.todense()"
   ]
  },
  {
   "cell_type": "markdown",
   "metadata": {},
   "source": [
    "## Random Forest"
   ]
  },
  {
   "cell_type": "markdown",
   "metadata": {},
   "source": [
    "We can now build a random forest model to predict \"sentiment\"."
   ]
  },
  {
   "cell_type": "code",
   "execution_count": 18,
   "metadata": {
    "collapsed": false
   },
   "outputs": [
    {
     "data": {
      "text/plain": [
       "array([ 0.78843868,  0.78986595,  0.81028906])"
      ]
     },
     "execution_count": 18,
     "metadata": {},
     "output_type": "execute_result"
    }
   ],
   "source": [
    "model = ensemble.RandomForestClassifier(n_estimators = 5)\n",
    "\n",
    "cross_validation.cross_val_score(model, train_X, train_y, scoring = 'roc_auc')"
   ]
  },
  {
   "cell_type": "code",
   "execution_count": 19,
   "metadata": {
    "collapsed": false
   },
   "outputs": [
    {
     "data": {
      "text/plain": [
       "RandomForestClassifier(bootstrap=True, class_weight=None, criterion='gini',\n",
       "            max_depth=None, max_features='auto', max_leaf_nodes=None,\n",
       "            min_samples_leaf=1, min_samples_split=2,\n",
       "            min_weight_fraction_leaf=0.0, n_estimators=5, n_jobs=1,\n",
       "            oob_score=False, random_state=None, verbose=0,\n",
       "            warm_start=False)"
      ]
     },
     "execution_count": 19,
     "metadata": {},
     "output_type": "execute_result"
    }
   ],
   "source": [
    "model.fit(train_X, train_y)"
   ]
  },
  {
   "cell_type": "code",
   "execution_count": 20,
   "metadata": {
    "collapsed": false
   },
   "outputs": [
    {
     "data": {
      "text/plain": [
       "0.97166666666666668"
      ]
     },
     "execution_count": 20,
     "metadata": {},
     "output_type": "execute_result"
    }
   ],
   "source": [
    "model.score(train_X, train_y)"
   ]
  },
  {
   "cell_type": "code",
   "execution_count": 21,
   "metadata": {
    "collapsed": true
   },
   "outputs": [],
   "source": [
    "def roc_auc(model, train_X, train_y, title):\n",
    "    train_y_hat = model.predict(train_X)\n",
    "\n",
    "    fpr, tpr, thresholds = metrics.roc_curve(train_y, train_y_hat)\n",
    "\n",
    "    plt.figure()\n",
    "    plt.plot(fpr, tpr, label = 'ROC curve (area = %0.2f)' % metrics.auc(fpr, tpr))\n",
    "    plt.plot([0, 1], [0, 1], 'k--')\n",
    "    plt.xlim([.0, 1.])\n",
    "    plt.ylim([.0, 1.1])\n",
    "    plt.xlabel('FPR/Fall-out')\n",
    "    plt.ylabel('TPR/Sensitivity')\n",
    "    plt.title(title)\n",
    "    plt.legend(loc = 'lower right')\n",
    "    plt.show()"
   ]
  },
  {
   "cell_type": "code",
   "execution_count": 22,
   "metadata": {
    "collapsed": false
   },
   "outputs": [
    {
     "data": {
      "image/png": "[encoded data removed]"
     },
     "metadata": {},
     "output_type": "display_data"
    }
   ],
   "source": [
    "roc_auc(model, train_X, train_y, 'Sentiment ROC/AUC on Training Set')"
   ]
  },
  {
   "cell_type": "code",
   "execution_count": 23,
   "metadata": {
    "collapsed": false
   },
   "outputs": [
    {
     "data": {
      "text/plain": [
       "0.755"
      ]
     },
     "execution_count": 23,
     "metadata": {},
     "output_type": "execute_result"
    }
   ],
   "source": [
    "model.score(test_X, test_y)"
   ]
  },
  {
   "cell_type": "code",
   "execution_count": 24,
   "metadata": {
    "collapsed": false
   },
   "outputs": [
    {
     "data": {
      "image/png": "[encoded data removed]"
     },
     "metadata": {},
     "output_type": "display_data"
    }
   ],
   "source": [
    "roc_auc(model, test_X, test_y, 'Sentiment ROC/AUC on Testing Set')"
   ]
  },
  {
   "cell_type": "markdown",
   "metadata": {},
   "source": [
    "# Lab - TF-IDF"
   ]
  },
  {
   "cell_type": "markdown",
   "metadata": {
    "collapsed": true
   },
   "source": [
    "Directions: Redo the analysis above with `TfidfVectorizer` instead of `CountVectorizer`.  What do you get?\n",
    "\n",
    "(Check http://scikit-learn.org/stable/modules/generated/sklearn.feature_extraction.text.TfidfVectorizer.html as needed)"
   ]
  },
  {
   "cell_type": "code",
   "execution_count": 25,
   "metadata": {
    "collapsed": true
   },
   "outputs": [],
   "source": [
    "train_X, test_X, train_y, test_y = cross_validation.train_test_split(X, y, train_size = .6, random_state = 0)"
   ]
  },
  {
   "cell_type": "code",
   "execution_count": 26,
   "metadata": {
    "collapsed": false
   },
   "outputs": [],
   "source": [
    "vectorizer = feature_extraction.text.TfidfVectorizer(stop_words = 'english')"
   ]
  },
  {
   "cell_type": "code",
   "execution_count": 27,
   "metadata": {
    "collapsed": false
   },
   "outputs": [
    {
     "data": {
      "text/plain": [
       "TfidfVectorizer(analyzer=u'word', binary=False, decode_error=u'strict',\n",
       "        dtype=<type 'numpy.int64'>, encoding=u'utf-8', input=u'content',\n",
       "        lowercase=True, max_df=1.0, max_features=None, min_df=1,\n",
       "        ngram_range=(1, 1), norm=u'l2', preprocessor=None, smooth_idf=True,\n",
       "        stop_words='english', strip_accents=None, sublinear_tf=False,\n",
       "        token_pattern=u'(?u)\\\\b\\\\w\\\\w+\\\\b', tokenizer=None, use_idf=True,\n",
       "        vocabulary=None)"
      ]
     },
     "execution_count": 27,
     "metadata": {},
     "output_type": "execute_result"
    }
   ],
   "source": [
    "vectorizer.fit(train_X)"
   ]
  },
  {
   "cell_type": "code",
   "execution_count": 28,
   "metadata": {
    "collapsed": true
   },
   "outputs": [],
   "source": [
    "train_X = vectorizer.transform(train_X)"
   ]
  },
  {
   "cell_type": "code",
   "execution_count": 29,
   "metadata": {
    "collapsed": true
   },
   "outputs": [],
   "source": [
    "test_X = vectorizer.transform(test_X)"
   ]
  },
  {
   "cell_type": "code",
   "execution_count": 30,
   "metadata": {
    "collapsed": false
   },
   "outputs": [
    {
     "data": {
      "text/plain": [
       "array([ 0.77917575,  0.83788515,  0.80715585])"
      ]
     },
     "execution_count": 30,
     "metadata": {},
     "output_type": "execute_result"
    }
   ],
   "source": [
    "model = ensemble.RandomForestClassifier(n_estimators = 5)\n",
    "\n",
    "cross_validation.cross_val_score(model, train_X, train_y, scoring = 'roc_auc')"
   ]
  },
  {
   "cell_type": "code",
   "execution_count": 31,
   "metadata": {
    "collapsed": false
   },
   "outputs": [
    {
     "data": {
      "text/plain": [
       "RandomForestClassifier(bootstrap=True, class_weight=None, criterion='gini',\n",
       "            max_depth=None, max_features='auto', max_leaf_nodes=None,\n",
       "            min_samples_leaf=1, min_samples_split=2,\n",
       "            min_weight_fraction_leaf=0.0, n_estimators=5, n_jobs=1,\n",
       "            oob_score=False, random_state=None, verbose=0,\n",
       "            warm_start=False)"
      ]
     },
     "execution_count": 31,
     "metadata": {},
     "output_type": "execute_result"
    }
   ],
   "source": [
    "model.fit(train_X, train_y)"
   ]
  },
  {
   "cell_type": "code",
   "execution_count": 32,
   "metadata": {
    "collapsed": false
   },
   "outputs": [
    {
     "data": {
      "text/plain": [
       "0.96666666666666667"
      ]
     },
     "execution_count": 32,
     "metadata": {},
     "output_type": "execute_result"
    }
   ],
   "source": [
    "model.score(train_X, train_y)"
   ]
  },
  {
   "cell_type": "code",
   "execution_count": 33,
   "metadata": {
    "collapsed": false
   },
   "outputs": [
    {
     "data": {
      "image/png": "[encoded data removed]"
     },
     "metadata": {},
     "output_type": "display_data"
    }
   ],
   "source": [
    "roc_auc(model, train_X, train_y, 'Sentiment ROC/AUC on Training Set')"
   ]
  },
  {
   "cell_type": "code",
   "execution_count": 34,
   "metadata": {
    "collapsed": false
   },
   "outputs": [
    {
     "data": {
      "text/plain": [
       "0.69750000000000001"
      ]
     },
     "execution_count": 34,
     "metadata": {},
     "output_type": "execute_result"
    }
   ],
   "source": [
    "model.score(test_X, test_y)"
   ]
  },
  {
   "cell_type": "code",
   "execution_count": 35,
   "metadata": {
    "collapsed": false
   },
   "outputs": [
    {
     "data": {
      "image/png": "[encoded data removed]"
     },
     "metadata": {},
     "output_type": "display_data"
    }
   ],
   "source": [
    "roc_auc(model, test_X, test_y, 'Sentiment ROC/AUC on Testing Set')"
   ]
  }
 ],
 "metadata": {
  "kernelspec": {
   "display_name": "Python [Root]",
   "language": "python",
   "name": "Python [Root]"
  },
  "language_info": {
   "codemirror_mode": {
    "name": "ipython",
    "version": 2
   },
   "file_extension": ".py",
   "mimetype": "text/x-python",
   "name": "python",
   "nbconvert_exporter": "python",
   "pygments_lexer": "ipython2",
   "version": "2.7.12"
  }
 },
 "nbformat": 4,
 "nbformat_minor": 0
}
