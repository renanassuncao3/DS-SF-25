{
 "cells": [
  {
   "cell_type": "markdown",
   "metadata": {},
   "source": [
    "# DS-SF-25 | Demo 13 | Tokenizing, Tagging, and Parsing with `spacy`"
   ]
  },
  {
   "cell_type": "markdown",
   "metadata": {},
   "source": [
    "To install `spacy`: (one time only)\n",
    "\n",
    "> `% conda install --channel https://conda.anaconda.org/spacy spacy`<br>\n",
    "> `% python -m spacy.en.download --force all`"
   ]
  },
  {
   "cell_type": "markdown",
   "metadata": {},
   "source": [
    "Load the NLP toolkit by specifying the language."
   ]
  },
  {
   "cell_type": "code",
   "execution_count": 1,
   "metadata": {
    "collapsed": false
   },
   "outputs": [],
   "source": [
    "from spacy.en import English\n",
    "nlp_toolkit = English()"
   ]
  },
  {
   "cell_type": "markdown",
   "metadata": {},
   "source": [
    "We want to extract several pieces of information from the following sentence: \"John hit the ball\""
   ]
  },
  {
   "cell_type": "code",
   "execution_count": 2,
   "metadata": {
    "collapsed": true
   },
   "outputs": [],
   "source": [
    "sentence = u'John hit the ball' # the 'u' before the string makes it a Unicode string which spacy requires"
   ]
  },
  {
   "cell_type": "markdown",
   "metadata": {},
   "source": [
    "Now, We can use `spacy` to get information about this sentence"
   ]
  },
  {
   "cell_type": "code",
   "execution_count": 3,
   "metadata": {
    "collapsed": false
   },
   "outputs": [
    {
     "name": "stdout",
     "output_type": "stream",
     "text": [
      "John \n",
      "\tParent: hit\n",
      "\tPhrase type: nsubj\n",
      "\tKnown entity type: PERSON\n",
      "\tLemma: john\n",
      "hit \n",
      "\tParent: hit\n",
      "\tPhrase type: ROOT\n",
      "\tKnown entity type: n/a\n",
      "\tLemma: hit\n",
      "the \n",
      "\tParent: ball\n",
      "\tPhrase type: det\n",
      "\tKnown entity type: n/a\n",
      "\tLemma: the\n",
      "ball\n",
      "\tParent: hit\n",
      "\tPhrase type: dobj\n",
      "\tKnown entity type: n/a\n",
      "\tLemma: ball\n"
     ]
    }
   ],
   "source": [
    "parsed = nlp_toolkit(sentence)\n",
    "\n",
    "for (i, word) in enumerate(parsed):\n",
    "    print word\n",
    "    print \"\\tParent: {}\".format(word.head.lemma_)\n",
    "    print \"\\tPhrase type: {}\".format(word.dep_)\n",
    "    print \"\\tKnown entity type: {}\".format(word.ent_type_ if word.ent_type_ else 'n/a')\n",
    "    print \"\\tLemma: {}\".format(word.lemma_)"
   ]
  }
 ],
 "metadata": {
  "kernelspec": {
   "display_name": "Python [Root]",
   "language": "python",
   "name": "Python [Root]"
  },
  "language_info": {
   "codemirror_mode": {
    "name": "ipython",
    "version": 2
   },
   "file_extension": ".py",
   "mimetype": "text/x-python",
   "name": "python",
   "nbconvert_exporter": "python",
   "pygments_lexer": "ipython2",
   "version": "2.7.12"
  }
 },
 "nbformat": 4,
 "nbformat_minor": 0
}
